{
 "cells": [
  {
   "cell_type": "markdown",
   "metadata": {},
   "source": [
    "# Bonus1: Parallel Algorithms\n",
    "\n",
    "### Name: Ryan Adoni\n"
   ]
  },
  {
   "cell_type": "markdown",
   "metadata": {},
   "source": [
    "## 0. You will do the following:\n",
    "\n",
    "1. Read the lecture note: [click here](https://github.com/wangshusen/DeepLearning/blob/master/LectureNotes/Parallel/Parallel.pdf)\n",
    "\n",
    "2. Implement federated averaging or decentralized optimization.\n",
    "\n",
    "3. Plot the convergence curve. (The x-axis can be ```number of epochs``` or ```number of communication```. You must make sure the label is correct.)\n",
    "\n",
    "4. Convert the .IPYNB file to .HTML file.\n",
    "\n",
    "    * The HTML file must contain **the code** and **the output after execution**.\n",
    "    \n",
    "5. Upload this .HTML file to your Google Drive, Dropbox, or your Github repo. (If it is submitted to Google Drive or Dropbox, you must make the file open-access.)\n",
    "\n",
    "6. Submit the link to this .HTML file to Canvas.\n",
    "\n",
    "    * Example: https://github.com/wangshusen/CS583-2020S/blob/master/homework/Bonus1/Bonus1.html\n",
    "\n"
   ]
  },
  {
   "cell_type": "code",
   "execution_count": null,
   "metadata": {},
   "outputs": [],
   "source": []
  },
  {
   "cell_type": "markdown",
   "metadata": {},
   "source": [
    "# 1. Data processing\n",
    "\n",
    "- Download the Diabete dataset from https://www.csie.ntu.edu.tw/~cjlin/libsvmtools/datasets/binary/diabetes\n",
    "- Load the data using sklearn.\n",
    "- Preprocess the data."
   ]
  },
  {
   "cell_type": "markdown",
   "metadata": {},
   "source": [
    "## 1.1. Load the data"
   ]
  },
  {
   "cell_type": "code",
   "execution_count": 450,
   "metadata": {},
   "outputs": [
    {
     "output_type": "stream",
     "name": "stdout",
     "text": [
      "Shape of x: (768, 8)\nShape of y: (768,)\n"
     ]
    }
   ],
   "source": [
    "from sklearn import datasets\n",
    "import numpy\n",
    "\n",
    "x_sparse, y = datasets.load_svmlight_file('diabetes')\n",
    "x = x_sparse.todense()\n",
    "\n",
    "print('Shape of x: ' + str(x.shape))\n",
    "print('Shape of y: ' + str(y.shape))"
   ]
  },
  {
   "cell_type": "markdown",
   "metadata": {},
   "source": [
    "## 1.2. Partition to training and test sets"
   ]
  },
  {
   "cell_type": "code",
   "execution_count": 451,
   "metadata": {},
   "outputs": [
    {
     "output_type": "stream",
     "name": "stdout",
     "text": [
      "Shape of x_train: (640, 8)\nShape of x_test: (128, 8)\nShape of y_train: (640, 1)\nShape of y_test: (128, 1)\n"
     ]
    }
   ],
   "source": [
    "# partition the data to training and test sets\n",
    "n = x.shape[0]\n",
    "n_train = 640\n",
    "n_test = n - n_train\n",
    "\n",
    "rand_indices = numpy.random.permutation(n)\n",
    "train_indices = rand_indices[0:n_train]\n",
    "test_indices = rand_indices[n_train:n]\n",
    "\n",
    "x_train = x[train_indices, :]\n",
    "x_test = x[test_indices, :]\n",
    "y_train = y[train_indices].reshape(n_train, 1)\n",
    "y_test = y[test_indices].reshape(n_test, 1)\n",
    "\n",
    "print('Shape of x_train: ' + str(x_train.shape))\n",
    "print('Shape of x_test: ' + str(x_test.shape))\n",
    "print('Shape of y_train: ' + str(y_train.shape))\n",
    "print('Shape of y_test: ' + str(y_test.shape))"
   ]
  },
  {
   "cell_type": "markdown",
   "metadata": {},
   "source": [
    "## 1.3. Feature scaling"
   ]
  },
  {
   "cell_type": "markdown",
   "metadata": {},
   "source": [
    "Use the standardization to trainsform both training and test features"
   ]
  },
  {
   "cell_type": "code",
   "execution_count": 452,
   "metadata": {},
   "outputs": [
    {
     "output_type": "stream",
     "name": "stdout",
     "text": [
      "test mean = \n[[-0.11355441 -0.17310362  0.07070995 -0.01821492 -0.1317914   0.11036109\n  -0.16703078  0.03603103]]\ntest std = \n[[0.93765264 1.05301131 0.84254614 1.05853505 0.84747412 0.96877429\n  1.00588543 0.99973933]]\n"
     ]
    }
   ],
   "source": [
    "# Standardization\n",
    "import numpy\n",
    "\n",
    "# calculate mu and sig using the training set\n",
    "d = x_train.shape[1]\n",
    "mu = numpy.mean(x_train, axis=0).reshape(1, d)\n",
    "sig = numpy.std(x_train, axis=0).reshape(1, d)\n",
    "\n",
    "# transform the training features\n",
    "x_train = (x_train - mu) / (sig + 1E-6)\n",
    "\n",
    "# transform the test features\n",
    "x_test = (x_test - mu) / (sig + 1E-6)\n",
    "\n",
    "print('test mean = ')\n",
    "print(numpy.mean(x_test, axis=0))\n",
    "\n",
    "print('test std = ')\n",
    "print(numpy.std(x_test, axis=0))"
   ]
  },
  {
   "source": [
    "## 1.4. Add a dimension of all ones"
   ],
   "cell_type": "markdown",
   "metadata": {}
  },
  {
   "cell_type": "code",
   "execution_count": 453,
   "metadata": {},
   "outputs": [
    {
     "output_type": "stream",
     "name": "stdout",
     "text": [
      "Shape of x_train: (640, 9)\nShape of x_test: (128, 9)\n"
     ]
    }
   ],
   "source": [
    "n_train, d = x_train.shape\n",
    "x_train = numpy.concatenate((x_train, numpy.ones((n_train, 1))), axis=1)\n",
    "\n",
    "n_test, d = x_test.shape\n",
    "x_test = numpy.concatenate((x_test, numpy.ones((n_test, 1))), axis=1)\n",
    "\n",
    "print('Shape of x_train: ' + str(x_train.shape))\n",
    "print('Shape of x_test: ' + str(x_test.shape))"
   ]
  },
  {
   "source": [
    "##  Worker Node Definition"
   ],
   "cell_type": "markdown",
   "metadata": {}
  },
  {
   "cell_type": "code",
   "execution_count": 454,
   "metadata": {},
   "outputs": [],
   "source": [
    "# Worker class defined in the pdf given to us.  Originally for AGD, I am adapting it for GD and SGD\n",
    "class Worker:\n",
    "    def __init__(self, x, y):\n",
    "        self.x = x # s−by−d local feature matrix\n",
    "        self.y = y # s−by−1 local label matrix\n",
    "        self.s = x.shape[0] # number of local samples\n",
    "        self.d = x.shape[1] # number of features\n",
    "        self.w = numpy.zeros((d, 1)) # d−by−1 model parameter vector\n",
    "        self.w0 = numpy.zeros((d, 1)) # d−by−1 model parameter vector\n",
    "\n",
    "    # Set the model parameters to the latest\n",
    "    def set_param(self, w):\n",
    "        self.w = w\n",
    "        self.w0 = w # must add this to calculate p\n",
    "    \n",
    "    # Compute the local loss\n",
    "    def loss(self):\n",
    "        yx = numpy.multiply(self.y, self.x) # s−by−d matrix\n",
    "        yxw = numpy.dot(yx, self.w) # s−by−1 matrix\n",
    "        vec1 = numpy.exp(-yxw) # s−by−1 matrix\n",
    "        vec2 = numpy.log(1 + vec1) # s−by−1 matrix\n",
    "        return numpy.sum(vec2) # loss function\n",
    "    \n",
    "    # Compute the local gradient\n",
    "    def gradient(self):\n",
    "        yx = numpy.multiply(self.y, self.x) # s−by−d matrix\n",
    "        yxw = numpy.dot(yx, self.w) # s−by−1 matrix\n",
    "        vec1 = numpy.exp(yxw) # s−by−1 matrix\n",
    "        vec2 = numpy.divide(yx, 1 + vec1) # s−by−d matrix\n",
    "        g = -numpy.sum(vec2, axis = 0).reshape(self.d, 1) # d−by−1 matrix\n",
    "        return g\n",
    "    \n",
    "    # compute stochastic gradient (from hw2 basically without regularizer)\n",
    "    def stochastic_objective_gradient(self, xi, yi):\n",
    "        yx = yi * xi # 1-by-d matrix\n",
    "        yxw = float(numpy.dot(yx, self.w)) # scalar\n",
    "        \n",
    "        # calculate objective function Q_i\n",
    "        loss = numpy.log(1 + numpy.exp(-yxw)) # scalar\n",
    "        \n",
    "        # calculate stochastic gradient\n",
    "        g = -yx.T / (1 + numpy.exp(yxw)) # d-by-1 matrix\n",
    "        \n",
    "        return g, loss\n",
    "\n",
    "    # from my hw2 with minor edits\n",
    "    def gd(self, stepsize, max_iter):\n",
    "        for t in range(max_iter):\n",
    "            g = self.gradient()\n",
    "            self.w -= stepsize * g   \n",
    "        return self.w0 - self.w, self.loss()\n",
    "    \n",
    "    # from my hw2 with minor edits\n",
    "    def sgd(self, stepsize, max_epoch = 100):\n",
    "        # w0 = self.w # before creating new variable.  \n",
    "        for t in range(max_epoch):\n",
    "            # randomly shuffle the samples\n",
    "            rand_indices = numpy.random.permutation(self.s)\n",
    "            x_rand = self.x[rand_indices, :]\n",
    "            y_rand = self.y[rand_indices, :]\n",
    "            \n",
    "            objval = 0 # accumulate the objective values\n",
    "            for i in range(self.s):\n",
    "                xi = x_rand[i, :] # 1-by-d matrix\n",
    "                yi = float(y_rand[i, :]) # scalar\n",
    "                g, loss = self.stochastic_objective_gradient(xi, yi)\n",
    "                objval += loss\n",
    "                self.w -= stepsize * g   \n",
    "        return self.w0 - self.w, objval # p in pdf"
   ]
  },
  {
   "source": [
    "## Server Definition"
   ],
   "cell_type": "markdown",
   "metadata": {}
  },
  {
   "cell_type": "code",
   "execution_count": 455,
   "metadata": {},
   "outputs": [],
   "source": [
    "# Server class defined in the pdf given to us.  Originally for AGD, I am adapting it for GD and SGD\n",
    "class Server:\n",
    "    def __init__(self, m, n, d):\n",
    "        self.m = m # number of worker nodes\n",
    "        self.n = n # number of training samples\n",
    "        self.d = d # number of features\n",
    "        self.w = numpy.zeros((d, 1)) # d−by−1 model parameter vector\n",
    "        self.g = 0\n",
    "        self.v = numpy.zeros((d, 1)) # d−by−1 momentum # for AGD\n",
    "        self.loss = 0 # loss function value\n",
    "        self.obj = 0 # objective function value\n",
    "\n",
    "    def broadcast(self):\n",
    "        return self.w\n",
    "\n",
    "    # Sum the gradients and loss functions evaluated by the workers\n",
    "    # Args:\n",
    "    #   grads: a list of d−by−1 vectors\n",
    "    #   losses: a list of scalars\n",
    "    def aggregate(self, grads, losses):\n",
    "        self.g = 0\n",
    "        self.loss = 0\n",
    "        for k in range(self.m):\n",
    "            self.g += grads[k]\n",
    "            self.loss += losses[k]\n",
    "        self.g /= self.m\n",
    "\n",
    "    # Compute the gradient (from the loss and regularization)\n",
    "    def gradient(self, lam):\n",
    "        self.g = self.g / self.n + lam * self.w\n",
    "\n",
    "    # Compute the objective function (sum of loss and regularization)\n",
    "    def objective(self, lam):\n",
    "        reg = lam / 2 * numpy.sum(self.w * self.w)\n",
    "        self.obj = self.loss / self.n + reg\n",
    "        return self.obj\n",
    "\n",
    "    # Update the model parameters using accelerated gradient descent\n",
    "    # Args:\n",
    "    #   alpha: learning rate (step size)\n",
    "    #   beta: momentum parameter\n",
    "    def agd(self, alpha, beta):\n",
    "        self.v *= beta\n",
    "        self.v += self.g\n",
    "        self.w -= alpha * self.v\n",
    "\n",
    "    # Update the model parameters using gradient descent\n",
    "    # Args:\n",
    "    #   alpha: learning rate (step size)\n",
    "    def gd(self, alpha):\n",
    "        self.w -= alpha * self.g\n"
   ]
  },
  {
   "source": [
    "## Initialization"
   ],
   "cell_type": "markdown",
   "metadata": {}
  },
  {
   "cell_type": "code",
   "execution_count": 456,
   "metadata": {},
   "outputs": [],
   "source": [
    "import math\n",
    "\n",
    "# Create a server and m worker nodes\n",
    "def create_server_workers(m, x, y):\n",
    "    n, d = x.shape\n",
    "    s = math.floor( n / m)\n",
    "    server = Server(m, n, d)\n",
    "    workers = []\n",
    "\n",
    "    for i in range(m):\n",
    "        indices = list(range(i * s, (i + 1) * s))\n",
    "        worker = Worker(x[indices, :], y[indices, :])\n",
    "        workers.append(worker)\n",
    "\n",
    "    return server, workers"
   ]
  },
  {
   "source": [
    "## Parallel Gradient Descent and Parallel Stochastic Gradient Descent Function (Federated Averaging if q > 1)"
   ],
   "cell_type": "markdown",
   "metadata": {}
  },
  {
   "cell_type": "code",
   "execution_count": 457,
   "metadata": {},
   "outputs": [],
   "source": [
    "def parallel_GD(lam, alpha, max_epoch, q, method):\n",
    "    # beta = 0.9 # momentum parameter # from AGD\n",
    "\n",
    "    objs = []\n",
    "\n",
    "    for t in range(max_epoch):\n",
    "        # step 1: broadcast\n",
    "        w = server.broadcast()\n",
    "        for i in range(m):\n",
    "            workers[i].set_param(w)\n",
    "\n",
    "        # step 2: workers’ local computations\n",
    "        grads = []\n",
    "        losses = []\n",
    "\n",
    "        for i in range(m):\n",
    "            if(method == \"GD\"):\n",
    "                g, l = workers[i].gd(alpha, q)\n",
    "            elif(method == \"SGD\"):\n",
    "                g, l = workers[i].sgd(alpha, q)\n",
    "            else:\n",
    "                return [] # failed\n",
    "            grads.append(g)\n",
    "            losses.append(l)\n",
    "\n",
    "        # step 3: aggregate the workers’ outputs\n",
    "        server.aggregate(grads, losses)\n",
    "\n",
    "        # step 4: server update the model parameters\n",
    "        server.gradient(lam) # compute gradient\n",
    "        obj = server.objective(lam) # compute objective function\n",
    "        objs.append(obj) # apend obj to list\n",
    "        print(\"Objective function value = \" + str(obj))\n",
    "        server.gd(alpha) # updates the model parameters # changed this from AGD to GD/SGD \n",
    "    return objs"
   ]
  },
  {
   "cell_type": "code",
   "execution_count": 458,
   "metadata": {
    "tags": []
   },
   "outputs": [
    {
     "output_type": "stream",
     "name": "stdout",
     "text": [
      "GD q = 1\n",
      "Objective function value = 0.6443821534171836\n",
      "Objective function value = 0.5928180861815485\n",
      "Objective function value = 0.5606196271602303\n",
      "Objective function value = 0.5389837670281845\n",
      "Objective function value = 0.5235708863144343\n",
      "Objective function value = 0.5120932615829623\n",
      "Objective function value = 0.5032543999512215\n",
      "Objective function value = 0.49627053965408574\n",
      "Objective function value = 0.49064103449388924\n",
      "Objective function value = 0.48603088450819243\n",
      "Objective function value = 0.48220702197685605\n",
      "Objective function value = 0.47900191431650346\n",
      "Objective function value = 0.47629179664034366\n",
      "Objective function value = 0.47398311388544767\n",
      "Objective function value = 0.4720037659181171\n",
      "Objective function value = 0.4702972697953448\n",
      "Objective function value = 0.46881875470335627\n",
      "Objective function value = 0.46753214402999366\n",
      "Objective function value = 0.46640812801885817\n",
      "Objective function value = 0.4654226762735619\n",
      "Objective function value = 0.4645559273188616\n",
      "Objective function value = 0.46379134691413315\n",
      "Objective function value = 0.4631150814371983\n",
      "Objective function value = 0.4625154551767457\n",
      "Objective function value = 0.4619825753418327\n",
      "Objective function value = 0.461508018751083\n",
      "Objective function value = 0.46108458118113765\n",
      "Objective function value = 0.4607060752868211\n",
      "Objective function value = 0.4603671665282991\n",
      "Objective function value = 0.46006323909274877\n",
      "Objective function value = 0.4597902856715301\n",
      "Objective function value = 0.45954481634560995\n",
      "Objective function value = 0.45932378287717657\n",
      "Objective function value = 0.45912451549813466\n",
      "Objective function value = 0.45894466989291605\n",
      "Objective function value = 0.4587821825412747\n",
      "Objective function value = 0.458635232950856\n",
      "Objective function value = 0.45850221159446586\n",
      "Objective function value = 0.4583816925917128\n",
      "Objective function value = 0.4582724103529245\n",
      "Objective function value = 0.4581732395453657\n",
      "Objective function value = 0.4580831778557402\n",
      "Objective function value = 0.45800133111477276\n",
      "Objective function value = 0.4579269004239964\n",
      "Objective function value = 0.4578591709853237\n",
      "Objective function value = 0.45779750238333816\n",
      "Objective function value = 0.45774132011073554\n",
      "Objective function value = 0.4576901081606611\n",
      "Objective function value = 0.4576434025372403\n",
      "Objective function value = 0.4576007855584303\n",
      "GD q = 8\n",
      "Objective function value = 0.522168684176432\n",
      "Objective function value = 0.47170500556502337\n",
      "Objective function value = 0.4599412605782647\n",
      "Objective function value = 0.45573209118825325\n",
      "Objective function value = 0.45396485651075624\n",
      "Objective function value = 0.45315529021752815\n",
      "Objective function value = 0.4527634641928308\n",
      "Objective function value = 0.45256635406178464\n",
      "Objective function value = 0.4524642033639464\n",
      "Objective function value = 0.45240994120365235\n",
      "Objective function value = 0.4523804872134793\n",
      "Objective function value = 0.4523641847939472\n",
      "Objective function value = 0.45235500137095447\n",
      "Objective function value = 0.4523497470818168\n",
      "Objective function value = 0.45234670126299664\n",
      "Objective function value = 0.4523449179041971\n",
      "Objective function value = 0.45234386722750014\n",
      "Objective function value = 0.4523432472664744\n",
      "Objective function value = 0.45234288303765374\n",
      "Objective function value = 0.45234267162340464\n",
      "Objective function value = 0.4523425517226318\n",
      "Objective function value = 0.45234248646157305\n",
      "Objective function value = 0.4523424535154332\n",
      "Objective function value = 0.4523424393327056\n",
      "Objective function value = 0.45234243570355037\n",
      "Objective function value = 0.45234243769149274\n",
      "Objective function value = 0.45234244237172383\n",
      "Objective function value = 0.45234244805421425\n",
      "Objective function value = 0.4523424538023247\n",
      "Objective function value = 0.45234245913362775\n",
      "Objective function value = 0.4523424638340967\n",
      "Objective function value = 0.452342467843262\n",
      "Objective function value = 0.4523424711839221\n",
      "Objective function value = 0.45234247391981997\n",
      "Objective function value = 0.4523424761308022\n",
      "Objective function value = 0.4523424778988201\n",
      "Objective function value = 0.45234247930056376\n",
      "Objective function value = 0.45234248040407093\n",
      "Objective function value = 0.4523424812676436\n",
      "Objective function value = 0.4523424819400396\n",
      "Objective function value = 0.4523424824613077\n",
      "Objective function value = 0.45234248286389084\n",
      "Objective function value = 0.4523424831737847\n",
      "Objective function value = 0.45234248341163463\n",
      "Objective function value = 0.4523424835937173\n",
      "Objective function value = 0.4523424837327868\n",
      "Objective function value = 0.45234248383878417\n",
      "Objective function value = 0.452342483919424\n",
      "Objective function value = 0.45234248398066923\n",
      "Objective function value = 0.4523424840271133\n",
      "SGD q = 1\n",
      "Objective function value = 0.6563409956719883\n",
      "Objective function value = 0.6019365113374501\n",
      "Objective function value = 0.5677057420076814\n",
      "Objective function value = 0.544687750595098\n",
      "Objective function value = 0.5283171310088531\n",
      "Objective function value = 0.5161852747583285\n",
      "Objective function value = 0.5068639639688716\n",
      "Objective function value = 0.49949392246353735\n",
      "Objective function value = 0.4935835148066537\n",
      "Objective function value = 0.4887375417376416\n",
      "Objective function value = 0.48473586031497307\n",
      "Objective function value = 0.48139334603944395\n",
      "Objective function value = 0.4785496223671534\n",
      "Objective function value = 0.4761352897345206\n",
      "Objective function value = 0.4740800126818727\n",
      "Objective function value = 0.4722870617181441\n",
      "Objective function value = 0.4707510299831411\n",
      "Objective function value = 0.46941569109219256\n",
      "Objective function value = 0.46823395836232756\n",
      "Objective function value = 0.46721622900758736\n",
      "Objective function value = 0.4663103387590446\n",
      "Objective function value = 0.46551185167132497\n",
      "Objective function value = 0.46481543587650637\n",
      "Objective function value = 0.4641836561840776\n",
      "Objective function value = 0.46363262120677917\n",
      "Objective function value = 0.4631373421106466\n",
      "Objective function value = 0.4626931512425214\n",
      "Objective function value = 0.46230394946679393\n",
      "Objective function value = 0.4619488132108953\n",
      "Objective function value = 0.4616364573112679\n",
      "Objective function value = 0.4613485359660846\n",
      "Objective function value = 0.4610980582614165\n",
      "Objective function value = 0.46086865665025956\n",
      "Objective function value = 0.46065969413172697\n",
      "Objective function value = 0.46047342584807177\n",
      "Objective function value = 0.46030700148079595\n",
      "Objective function value = 0.46015490232061346\n",
      "Objective function value = 0.4600186063730372\n",
      "Objective function value = 0.45988790342232\n",
      "Objective function value = 0.45977612508106075\n",
      "Objective function value = 0.45966868981587616\n",
      "Objective function value = 0.45957978204241384\n",
      "Objective function value = 0.45949144204050124\n",
      "Objective function value = 0.45941880832144516\n",
      "Objective function value = 0.4593524474248773\n",
      "Objective function value = 0.4592798291993066\n",
      "Objective function value = 0.4592253524397659\n",
      "Objective function value = 0.4591616154865542\n",
      "Objective function value = 0.45912745448898507\n",
      "Objective function value = 0.4590802579406089\n",
      "SGD q = 8\n",
      "Objective function value = 0.5271192693704275\n",
      "Objective function value = 0.4738461037074626\n",
      "Objective function value = 0.46154635491330387\n",
      "Objective function value = 0.45719585357645526\n",
      "Objective function value = 0.4553456860958273\n",
      "Objective function value = 0.45450568089958954\n",
      "Objective function value = 0.4541054934021443\n",
      "Objective function value = 0.45390853195003084\n",
      "Objective function value = 0.453798925449735\n",
      "Objective function value = 0.45375094411908945\n",
      "Objective function value = 0.4537065386697339\n",
      "Objective function value = 0.45368988808812216\n",
      "Objective function value = 0.45369554428779113\n",
      "Objective function value = 0.45368649054183513\n",
      "Objective function value = 0.4536833686794794\n",
      "Objective function value = 0.4536734678251412\n",
      "Objective function value = 0.45369622624031886\n",
      "Objective function value = 0.45367427825602624\n",
      "Objective function value = 0.45367236059288013\n",
      "Objective function value = 0.453677676637691\n",
      "Objective function value = 0.45369130568651966\n",
      "Objective function value = 0.4536671016503398\n",
      "Objective function value = 0.45367320355301205\n",
      "Objective function value = 0.4536893944297958\n",
      "Objective function value = 0.45367878067287687\n",
      "Objective function value = 0.453662769898927\n",
      "Objective function value = 0.45366624080956675\n",
      "Objective function value = 0.45368283270481685\n",
      "Objective function value = 0.4536919551087236\n",
      "Objective function value = 0.4536699163304969\n",
      "Objective function value = 0.4536892560338844\n",
      "Objective function value = 0.4536747300005769\n",
      "Objective function value = 0.4536804789796871\n",
      "Objective function value = 0.4536758817892283\n",
      "Objective function value = 0.45367810371778006\n",
      "Objective function value = 0.45367278284472784\n",
      "Objective function value = 0.4536789804490061\n",
      "Objective function value = 0.4536828090947836\n",
      "Objective function value = 0.4536650250769893\n",
      "Objective function value = 0.45368243919095685\n",
      "Objective function value = 0.45367237722709935\n",
      "Objective function value = 0.4536835083218998\n",
      "Objective function value = 0.45367698472229734\n",
      "Objective function value = 0.45367445269039103\n",
      "Objective function value = 0.4536686558926474\n",
      "Objective function value = 0.45367938853043915\n",
      "Objective function value = 0.4536805341609495\n",
      "Objective function value = 0.45366902691139394\n",
      "Objective function value = 0.45368335040476276\n",
      "Objective function value = 0.4536839380675543\n"
     ]
    }
   ],
   "source": [
    "lam = 1E-6 # regularization parameter\n",
    "alpha = 1E-3 # learning rate\n",
    "max_epoch = 50 # number of epochs\n",
    "m = 4 # number o f worker nodes\n",
    "\n",
    "print(\"GD q = 1\")\n",
    "server, workers = create_server_workers(m, x_train, y_train)\n",
    "objs_gd1 = parallel_GD(lam, alpha, max_epoch, 1, \"GD\")\n",
    "\n",
    "print(\"GD q = 8\")\n",
    "server, workers = create_server_workers(m, x_train, y_train)\n",
    "objs_gd8 = parallel_GD(lam, alpha, max_epoch, 8, \"GD\")\n",
    "\n",
    "print(\"SGD q = 1\")\n",
    "server, workers = create_server_workers(m, x_train, y_train)\n",
    "objs_sgd1 = parallel_GD(lam, alpha, max_epoch, 1, \"SGD\")\n",
    "\n",
    "print(\"SGD q = 8\")\n",
    "server, workers = create_server_workers(m, x_train, y_train)\n",
    "objs_sgd8 = parallel_GD(lam, alpha, max_epoch, 8, \"SGD\")"
   ]
  },
  {
   "source": [
    "## compare SGD and GD at q = 1 and q = 8"
   ],
   "cell_type": "markdown",
   "metadata": {}
  },
  {
   "cell_type": "code",
   "execution_count": 449,
   "metadata": {},
   "outputs": [
    {
     "output_type": "stream",
     "name": "stderr",
     "text": [
      "C:\\Users\\Stevens User\\AppData\\Local\\Programs\\Python\\Python37\\lib\\site-packages\\ipykernel_launcher.py:12: MatplotlibDeprecationWarning: Case-insensitive properties were deprecated in 3.3 and support will be removed two minor releases later\n  if sys.path[0] == '':\nC:\\Users\\Stevens User\\AppData\\Local\\Programs\\Python\\Python37\\lib\\site-packages\\ipykernel_launcher.py:13: MatplotlibDeprecationWarning: Case-insensitive properties were deprecated in 3.3 and support will be removed two minor releases later\n  del sys.path[0]\nC:\\Users\\Stevens User\\AppData\\Local\\Programs\\Python\\Python37\\lib\\site-packages\\ipykernel_launcher.py:14: MatplotlibDeprecationWarning: Case-insensitive properties were deprecated in 3.3 and support will be removed two minor releases later\n  \nC:\\Users\\Stevens User\\AppData\\Local\\Programs\\Python\\Python37\\lib\\site-packages\\ipykernel_launcher.py:15: MatplotlibDeprecationWarning: Case-insensitive properties were deprecated in 3.3 and support will be removed two minor releases later\n  from ipykernel import kernelapp as app\nC:\\Users\\Stevens User\\AppData\\Local\\Programs\\Python\\Python37\\lib\\site-packages\\ipykernel_launcher.py:17: MatplotlibDeprecationWarning: Case-insensitive properties were deprecated in 3.3 and support will be removed two minor releases later\nC:\\Users\\Stevens User\\AppData\\Local\\Programs\\Python\\Python37\\lib\\site-packages\\ipykernel_launcher.py:18: MatplotlibDeprecationWarning: Case-insensitive properties were deprecated in 3.3 and support will be removed two minor releases later\nC:\\Users\\Stevens User\\AppData\\Local\\Programs\\Python\\Python37\\lib\\site-packages\\ipykernel_launcher.py:19: MatplotlibDeprecationWarning: Case-insensitive properties were deprecated in 3.3 and support will be removed two minor releases later\nC:\\Users\\Stevens User\\AppData\\Local\\Programs\\Python\\Python37\\lib\\site-packages\\ipykernel_launcher.py:20: MatplotlibDeprecationWarning: Case-insensitive properties were deprecated in 3.3 and support will be removed two minor releases later\n"
     ]
    },
    {
     "output_type": "display_data",
     "data": {
      "text/plain": "<Figure size 432x288 with 1 Axes>",
      "image/svg+xml": "<?xml version=\"1.0\" encoding=\"utf-8\" standalone=\"no\"?>\r\n<!DOCTYPE svg PUBLIC \"-//W3C//DTD SVG 1.1//EN\"\r\n  \"http://www.w3.org/Graphics/SVG/1.1/DTD/svg11.dtd\">\r\n<!-- Created with matplotlib (https://matplotlib.org/) -->\r\n<svg height=\"281.64125pt\" version=\"1.1\" viewBox=\"0 0 425.422007 281.64125\" width=\"425.422007pt\" xmlns=\"http://www.w3.org/2000/svg\" xmlns:xlink=\"http://www.w3.org/1999/xlink\">\r\n <metadata>\r\n  <rdf:RDF xmlns:cc=\"http://creativecommons.org/ns#\" xmlns:dc=\"http://purl.org/dc/elements/1.1/\" xmlns:rdf=\"http://www.w3.org/1999/02/22-rdf-syntax-ns#\">\r\n   <cc:Work>\r\n    <dc:type rdf:resource=\"http://purl.org/dc/dcmitype/StillImage\"/>\r\n    <dc:date>2021-04-10T21:44:26.364131</dc:date>\r\n    <dc:format>image/svg+xml</dc:format>\r\n    <dc:creator>\r\n     <cc:Agent>\r\n      <dc:title>Matplotlib v3.3.2, https://matplotlib.org/</dc:title>\r\n     </cc:Agent>\r\n    </dc:creator>\r\n   </cc:Work>\r\n  </rdf:RDF>\r\n </metadata>\r\n <defs>\r\n  <style type=\"text/css\">*{stroke-linecap:butt;stroke-linejoin:round;}</style>\r\n </defs>\r\n <g id=\"figure_1\">\r\n  <g id=\"patch_1\">\r\n   <path d=\"M 0 281.64125 \r\nL 425.422007 281.64125 \r\nL 425.422007 0 \r\nL 0 0 \r\nz\r\n\" style=\"fill:none;\"/>\r\n  </g>\r\n  <g id=\"axes_1\">\r\n   <g id=\"patch_2\">\r\n    <path d=\"M 83.36125 228.6 \r\nL 417.017929 228.6 \r\nL 417.017929 7.2 \r\nL 83.36125 7.2 \r\nz\r\n\" style=\"fill:#ffffff;\"/>\r\n   </g>\r\n   <g id=\"matplotlib.axis_1\">\r\n    <g id=\"xtick_1\">\r\n     <g id=\"line2d_1\">\r\n      <defs>\r\n       <path d=\"M 0 0 \r\nL 0 3.5 \r\n\" id=\"mf34b64abd4\" style=\"stroke:#000000;stroke-width:0.8;\"/>\r\n      </defs>\r\n      <g>\r\n       <use style=\"stroke:#000000;stroke-width:0.8;\" x=\"98.527463\" xlink:href=\"#mf34b64abd4\" y=\"228.6\"/>\r\n      </g>\r\n     </g>\r\n     <g id=\"text_1\">\r\n      <!-- 0 -->\r\n      <g transform=\"translate(93.437463 247.7575)scale(0.16 -0.16)\">\r\n       <defs>\r\n        <path d=\"M 31.78125 66.40625 \r\nQ 24.171875 66.40625 20.328125 58.90625 \r\nQ 16.5 51.421875 16.5 36.375 \r\nQ 16.5 21.390625 20.328125 13.890625 \r\nQ 24.171875 6.390625 31.78125 6.390625 \r\nQ 39.453125 6.390625 43.28125 13.890625 \r\nQ 47.125 21.390625 47.125 36.375 \r\nQ 47.125 51.421875 43.28125 58.90625 \r\nQ 39.453125 66.40625 31.78125 66.40625 \r\nz\r\nM 31.78125 74.21875 \r\nQ 44.046875 74.21875 50.515625 64.515625 \r\nQ 56.984375 54.828125 56.984375 36.375 \r\nQ 56.984375 17.96875 50.515625 8.265625 \r\nQ 44.046875 -1.421875 31.78125 -1.421875 \r\nQ 19.53125 -1.421875 13.0625 8.265625 \r\nQ 6.59375 17.96875 6.59375 36.375 \r\nQ 6.59375 54.828125 13.0625 64.515625 \r\nQ 19.53125 74.21875 31.78125 74.21875 \r\nz\r\n\" id=\"DejaVuSans-48\"/>\r\n       </defs>\r\n       <use xlink:href=\"#DejaVuSans-48\"/>\r\n      </g>\r\n     </g>\r\n    </g>\r\n    <g id=\"xtick_2\">\r\n     <g id=\"line2d_2\">\r\n      <g>\r\n       <use style=\"stroke:#000000;stroke-width:0.8;\" x=\"160.430372\" xlink:href=\"#mf34b64abd4\" y=\"228.6\"/>\r\n      </g>\r\n     </g>\r\n     <g id=\"text_2\">\r\n      <!-- 10 -->\r\n      <g transform=\"translate(150.250372 247.7575)scale(0.16 -0.16)\">\r\n       <defs>\r\n        <path d=\"M 12.40625 8.296875 \r\nL 28.515625 8.296875 \r\nL 28.515625 63.921875 \r\nL 10.984375 60.40625 \r\nL 10.984375 69.390625 \r\nL 28.421875 72.90625 \r\nL 38.28125 72.90625 \r\nL 38.28125 8.296875 \r\nL 54.390625 8.296875 \r\nL 54.390625 0 \r\nL 12.40625 0 \r\nz\r\n\" id=\"DejaVuSans-49\"/>\r\n       </defs>\r\n       <use xlink:href=\"#DejaVuSans-49\"/>\r\n       <use x=\"63.623047\" xlink:href=\"#DejaVuSans-48\"/>\r\n      </g>\r\n     </g>\r\n    </g>\r\n    <g id=\"xtick_3\">\r\n     <g id=\"line2d_3\">\r\n      <g>\r\n       <use style=\"stroke:#000000;stroke-width:0.8;\" x=\"222.333281\" xlink:href=\"#mf34b64abd4\" y=\"228.6\"/>\r\n      </g>\r\n     </g>\r\n     <g id=\"text_3\">\r\n      <!-- 20 -->\r\n      <g transform=\"translate(212.153281 247.7575)scale(0.16 -0.16)\">\r\n       <defs>\r\n        <path d=\"M 19.1875 8.296875 \r\nL 53.609375 8.296875 \r\nL 53.609375 0 \r\nL 7.328125 0 \r\nL 7.328125 8.296875 \r\nQ 12.9375 14.109375 22.625 23.890625 \r\nQ 32.328125 33.6875 34.8125 36.53125 \r\nQ 39.546875 41.84375 41.421875 45.53125 \r\nQ 43.3125 49.21875 43.3125 52.78125 \r\nQ 43.3125 58.59375 39.234375 62.25 \r\nQ 35.15625 65.921875 28.609375 65.921875 \r\nQ 23.96875 65.921875 18.8125 64.3125 \r\nQ 13.671875 62.703125 7.8125 59.421875 \r\nL 7.8125 69.390625 \r\nQ 13.765625 71.78125 18.9375 73 \r\nQ 24.125 74.21875 28.421875 74.21875 \r\nQ 39.75 74.21875 46.484375 68.546875 \r\nQ 53.21875 62.890625 53.21875 53.421875 \r\nQ 53.21875 48.921875 51.53125 44.890625 \r\nQ 49.859375 40.875 45.40625 35.40625 \r\nQ 44.1875 33.984375 37.640625 27.21875 \r\nQ 31.109375 20.453125 19.1875 8.296875 \r\nz\r\n\" id=\"DejaVuSans-50\"/>\r\n       </defs>\r\n       <use xlink:href=\"#DejaVuSans-50\"/>\r\n       <use x=\"63.623047\" xlink:href=\"#DejaVuSans-48\"/>\r\n      </g>\r\n     </g>\r\n    </g>\r\n    <g id=\"xtick_4\">\r\n     <g id=\"line2d_4\">\r\n      <g>\r\n       <use style=\"stroke:#000000;stroke-width:0.8;\" x=\"284.236189\" xlink:href=\"#mf34b64abd4\" y=\"228.6\"/>\r\n      </g>\r\n     </g>\r\n     <g id=\"text_4\">\r\n      <!-- 30 -->\r\n      <g transform=\"translate(274.056189 247.7575)scale(0.16 -0.16)\">\r\n       <defs>\r\n        <path d=\"M 40.578125 39.3125 \r\nQ 47.65625 37.796875 51.625 33 \r\nQ 55.609375 28.21875 55.609375 21.1875 \r\nQ 55.609375 10.40625 48.1875 4.484375 \r\nQ 40.765625 -1.421875 27.09375 -1.421875 \r\nQ 22.515625 -1.421875 17.65625 -0.515625 \r\nQ 12.796875 0.390625 7.625 2.203125 \r\nL 7.625 11.71875 \r\nQ 11.71875 9.328125 16.59375 8.109375 \r\nQ 21.484375 6.890625 26.8125 6.890625 \r\nQ 36.078125 6.890625 40.9375 10.546875 \r\nQ 45.796875 14.203125 45.796875 21.1875 \r\nQ 45.796875 27.640625 41.28125 31.265625 \r\nQ 36.765625 34.90625 28.71875 34.90625 \r\nL 20.21875 34.90625 \r\nL 20.21875 43.015625 \r\nL 29.109375 43.015625 \r\nQ 36.375 43.015625 40.234375 45.921875 \r\nQ 44.09375 48.828125 44.09375 54.296875 \r\nQ 44.09375 59.90625 40.109375 62.90625 \r\nQ 36.140625 65.921875 28.71875 65.921875 \r\nQ 24.65625 65.921875 20.015625 65.03125 \r\nQ 15.375 64.15625 9.8125 62.3125 \r\nL 9.8125 71.09375 \r\nQ 15.4375 72.65625 20.34375 73.4375 \r\nQ 25.25 74.21875 29.59375 74.21875 \r\nQ 40.828125 74.21875 47.359375 69.109375 \r\nQ 53.90625 64.015625 53.90625 55.328125 \r\nQ 53.90625 49.265625 50.4375 45.09375 \r\nQ 46.96875 40.921875 40.578125 39.3125 \r\nz\r\n\" id=\"DejaVuSans-51\"/>\r\n       </defs>\r\n       <use xlink:href=\"#DejaVuSans-51\"/>\r\n       <use x=\"63.623047\" xlink:href=\"#DejaVuSans-48\"/>\r\n      </g>\r\n     </g>\r\n    </g>\r\n    <g id=\"xtick_5\">\r\n     <g id=\"line2d_5\">\r\n      <g>\r\n       <use style=\"stroke:#000000;stroke-width:0.8;\" x=\"346.139098\" xlink:href=\"#mf34b64abd4\" y=\"228.6\"/>\r\n      </g>\r\n     </g>\r\n     <g id=\"text_5\">\r\n      <!-- 40 -->\r\n      <g transform=\"translate(335.959098 247.7575)scale(0.16 -0.16)\">\r\n       <defs>\r\n        <path d=\"M 37.796875 64.3125 \r\nL 12.890625 25.390625 \r\nL 37.796875 25.390625 \r\nz\r\nM 35.203125 72.90625 \r\nL 47.609375 72.90625 \r\nL 47.609375 25.390625 \r\nL 58.015625 25.390625 \r\nL 58.015625 17.1875 \r\nL 47.609375 17.1875 \r\nL 47.609375 0 \r\nL 37.796875 0 \r\nL 37.796875 17.1875 \r\nL 4.890625 17.1875 \r\nL 4.890625 26.703125 \r\nz\r\n\" id=\"DejaVuSans-52\"/>\r\n       </defs>\r\n       <use xlink:href=\"#DejaVuSans-52\"/>\r\n       <use x=\"63.623047\" xlink:href=\"#DejaVuSans-48\"/>\r\n      </g>\r\n     </g>\r\n    </g>\r\n    <g id=\"xtick_6\">\r\n     <g id=\"line2d_6\">\r\n      <g>\r\n       <use style=\"stroke:#000000;stroke-width:0.8;\" x=\"408.042007\" xlink:href=\"#mf34b64abd4\" y=\"228.6\"/>\r\n      </g>\r\n     </g>\r\n     <g id=\"text_6\">\r\n      <!-- 50 -->\r\n      <g transform=\"translate(397.862007 247.7575)scale(0.16 -0.16)\">\r\n       <defs>\r\n        <path d=\"M 10.796875 72.90625 \r\nL 49.515625 72.90625 \r\nL 49.515625 64.59375 \r\nL 19.828125 64.59375 \r\nL 19.828125 46.734375 \r\nQ 21.96875 47.46875 24.109375 47.828125 \r\nQ 26.265625 48.1875 28.421875 48.1875 \r\nQ 40.625 48.1875 47.75 41.5 \r\nQ 54.890625 34.8125 54.890625 23.390625 \r\nQ 54.890625 11.625 47.5625 5.09375 \r\nQ 40.234375 -1.421875 26.90625 -1.421875 \r\nQ 22.3125 -1.421875 17.546875 -0.640625 \r\nQ 12.796875 0.140625 7.71875 1.703125 \r\nL 7.71875 11.625 \r\nQ 12.109375 9.234375 16.796875 8.0625 \r\nQ 21.484375 6.890625 26.703125 6.890625 \r\nQ 35.15625 6.890625 40.078125 11.328125 \r\nQ 45.015625 15.765625 45.015625 23.390625 \r\nQ 45.015625 31 40.078125 35.4375 \r\nQ 35.15625 39.890625 26.703125 39.890625 \r\nQ 22.75 39.890625 18.8125 39.015625 \r\nQ 14.890625 38.140625 10.796875 36.28125 \r\nz\r\n\" id=\"DejaVuSans-53\"/>\r\n       </defs>\r\n       <use xlink:href=\"#DejaVuSans-53\"/>\r\n       <use x=\"63.623047\" xlink:href=\"#DejaVuSans-48\"/>\r\n      </g>\r\n     </g>\r\n    </g>\r\n    <g id=\"text_7\">\r\n     <!-- Epochs -->\r\n     <g transform=\"translate(214.35834 270.281875)scale(0.2 -0.2)\">\r\n      <defs>\r\n       <path d=\"M 9.8125 72.90625 \r\nL 55.90625 72.90625 \r\nL 55.90625 64.59375 \r\nL 19.671875 64.59375 \r\nL 19.671875 43.015625 \r\nL 54.390625 43.015625 \r\nL 54.390625 34.71875 \r\nL 19.671875 34.71875 \r\nL 19.671875 8.296875 \r\nL 56.78125 8.296875 \r\nL 56.78125 0 \r\nL 9.8125 0 \r\nz\r\n\" id=\"DejaVuSans-69\"/>\r\n       <path d=\"M 18.109375 8.203125 \r\nL 18.109375 -20.796875 \r\nL 9.078125 -20.796875 \r\nL 9.078125 54.6875 \r\nL 18.109375 54.6875 \r\nL 18.109375 46.390625 \r\nQ 20.953125 51.265625 25.265625 53.625 \r\nQ 29.59375 56 35.59375 56 \r\nQ 45.5625 56 51.78125 48.09375 \r\nQ 58.015625 40.1875 58.015625 27.296875 \r\nQ 58.015625 14.40625 51.78125 6.484375 \r\nQ 45.5625 -1.421875 35.59375 -1.421875 \r\nQ 29.59375 -1.421875 25.265625 0.953125 \r\nQ 20.953125 3.328125 18.109375 8.203125 \r\nz\r\nM 48.6875 27.296875 \r\nQ 48.6875 37.203125 44.609375 42.84375 \r\nQ 40.53125 48.484375 33.40625 48.484375 \r\nQ 26.265625 48.484375 22.1875 42.84375 \r\nQ 18.109375 37.203125 18.109375 27.296875 \r\nQ 18.109375 17.390625 22.1875 11.75 \r\nQ 26.265625 6.109375 33.40625 6.109375 \r\nQ 40.53125 6.109375 44.609375 11.75 \r\nQ 48.6875 17.390625 48.6875 27.296875 \r\nz\r\n\" id=\"DejaVuSans-112\"/>\r\n       <path d=\"M 30.609375 48.390625 \r\nQ 23.390625 48.390625 19.1875 42.75 \r\nQ 14.984375 37.109375 14.984375 27.296875 \r\nQ 14.984375 17.484375 19.15625 11.84375 \r\nQ 23.34375 6.203125 30.609375 6.203125 \r\nQ 37.796875 6.203125 41.984375 11.859375 \r\nQ 46.1875 17.53125 46.1875 27.296875 \r\nQ 46.1875 37.015625 41.984375 42.703125 \r\nQ 37.796875 48.390625 30.609375 48.390625 \r\nz\r\nM 30.609375 56 \r\nQ 42.328125 56 49.015625 48.375 \r\nQ 55.71875 40.765625 55.71875 27.296875 \r\nQ 55.71875 13.875 49.015625 6.21875 \r\nQ 42.328125 -1.421875 30.609375 -1.421875 \r\nQ 18.84375 -1.421875 12.171875 6.21875 \r\nQ 5.515625 13.875 5.515625 27.296875 \r\nQ 5.515625 40.765625 12.171875 48.375 \r\nQ 18.84375 56 30.609375 56 \r\nz\r\n\" id=\"DejaVuSans-111\"/>\r\n       <path d=\"M 48.78125 52.59375 \r\nL 48.78125 44.1875 \r\nQ 44.96875 46.296875 41.140625 47.34375 \r\nQ 37.3125 48.390625 33.40625 48.390625 \r\nQ 24.65625 48.390625 19.8125 42.84375 \r\nQ 14.984375 37.3125 14.984375 27.296875 \r\nQ 14.984375 17.28125 19.8125 11.734375 \r\nQ 24.65625 6.203125 33.40625 6.203125 \r\nQ 37.3125 6.203125 41.140625 7.25 \r\nQ 44.96875 8.296875 48.78125 10.40625 \r\nL 48.78125 2.09375 \r\nQ 45.015625 0.34375 40.984375 -0.53125 \r\nQ 36.96875 -1.421875 32.421875 -1.421875 \r\nQ 20.0625 -1.421875 12.78125 6.34375 \r\nQ 5.515625 14.109375 5.515625 27.296875 \r\nQ 5.515625 40.671875 12.859375 48.328125 \r\nQ 20.21875 56 33.015625 56 \r\nQ 37.15625 56 41.109375 55.140625 \r\nQ 45.0625 54.296875 48.78125 52.59375 \r\nz\r\n\" id=\"DejaVuSans-99\"/>\r\n       <path d=\"M 54.890625 33.015625 \r\nL 54.890625 0 \r\nL 45.90625 0 \r\nL 45.90625 32.71875 \r\nQ 45.90625 40.484375 42.875 44.328125 \r\nQ 39.84375 48.1875 33.796875 48.1875 \r\nQ 26.515625 48.1875 22.3125 43.546875 \r\nQ 18.109375 38.921875 18.109375 30.90625 \r\nL 18.109375 0 \r\nL 9.078125 0 \r\nL 9.078125 75.984375 \r\nL 18.109375 75.984375 \r\nL 18.109375 46.1875 \r\nQ 21.34375 51.125 25.703125 53.5625 \r\nQ 30.078125 56 35.796875 56 \r\nQ 45.21875 56 50.046875 50.171875 \r\nQ 54.890625 44.34375 54.890625 33.015625 \r\nz\r\n\" id=\"DejaVuSans-104\"/>\r\n       <path d=\"M 44.28125 53.078125 \r\nL 44.28125 44.578125 \r\nQ 40.484375 46.53125 36.375 47.5 \r\nQ 32.28125 48.484375 27.875 48.484375 \r\nQ 21.1875 48.484375 17.84375 46.4375 \r\nQ 14.5 44.390625 14.5 40.28125 \r\nQ 14.5 37.15625 16.890625 35.375 \r\nQ 19.28125 33.59375 26.515625 31.984375 \r\nL 29.59375 31.296875 \r\nQ 39.15625 29.25 43.1875 25.515625 \r\nQ 47.21875 21.78125 47.21875 15.09375 \r\nQ 47.21875 7.46875 41.1875 3.015625 \r\nQ 35.15625 -1.421875 24.609375 -1.421875 \r\nQ 20.21875 -1.421875 15.453125 -0.5625 \r\nQ 10.6875 0.296875 5.421875 2 \r\nL 5.421875 11.28125 \r\nQ 10.40625 8.6875 15.234375 7.390625 \r\nQ 20.0625 6.109375 24.8125 6.109375 \r\nQ 31.15625 6.109375 34.5625 8.28125 \r\nQ 37.984375 10.453125 37.984375 14.40625 \r\nQ 37.984375 18.0625 35.515625 20.015625 \r\nQ 33.0625 21.96875 24.703125 23.78125 \r\nL 21.578125 24.515625 \r\nQ 13.234375 26.265625 9.515625 29.90625 \r\nQ 5.8125 33.546875 5.8125 39.890625 \r\nQ 5.8125 47.609375 11.28125 51.796875 \r\nQ 16.75 56 26.8125 56 \r\nQ 31.78125 56 36.171875 55.265625 \r\nQ 40.578125 54.546875 44.28125 53.078125 \r\nz\r\n\" id=\"DejaVuSans-115\"/>\r\n      </defs>\r\n      <use xlink:href=\"#DejaVuSans-69\"/>\r\n      <use x=\"63.183594\" xlink:href=\"#DejaVuSans-112\"/>\r\n      <use x=\"126.660156\" xlink:href=\"#DejaVuSans-111\"/>\r\n      <use x=\"187.841797\" xlink:href=\"#DejaVuSans-99\"/>\r\n      <use x=\"242.822266\" xlink:href=\"#DejaVuSans-104\"/>\r\n      <use x=\"306.201172\" xlink:href=\"#DejaVuSans-115\"/>\r\n     </g>\r\n    </g>\r\n   </g>\r\n   <g id=\"matplotlib.axis_2\">\r\n    <g id=\"ytick_1\">\r\n     <g id=\"line2d_7\">\r\n      <defs>\r\n       <path d=\"M 0 0 \r\nL -3.5 0 \r\n\" id=\"mccefa056b7\" style=\"stroke:#000000;stroke-width:0.8;\"/>\r\n      </defs>\r\n      <g>\r\n       <use style=\"stroke:#000000;stroke-width:0.8;\" x=\"83.36125\" xlink:href=\"#mccefa056b7\" y=\"215.088992\"/>\r\n      </g>\r\n     </g>\r\n     <g id=\"text_8\">\r\n      <!-- 0.475 -->\r\n      <g transform=\"translate(30.55625 221.167742)scale(0.16 -0.16)\">\r\n       <defs>\r\n        <path d=\"M 10.6875 12.40625 \r\nL 21 12.40625 \r\nL 21 0 \r\nL 10.6875 0 \r\nz\r\n\" id=\"DejaVuSans-46\"/>\r\n        <path d=\"M 8.203125 72.90625 \r\nL 55.078125 72.90625 \r\nL 55.078125 68.703125 \r\nL 28.609375 0 \r\nL 18.3125 0 \r\nL 43.21875 64.59375 \r\nL 8.203125 64.59375 \r\nz\r\n\" id=\"DejaVuSans-55\"/>\r\n       </defs>\r\n       <use xlink:href=\"#DejaVuSans-48\"/>\r\n       <use x=\"63.623047\" xlink:href=\"#DejaVuSans-46\"/>\r\n       <use x=\"95.410156\" xlink:href=\"#DejaVuSans-52\"/>\r\n       <use x=\"159.033203\" xlink:href=\"#DejaVuSans-55\"/>\r\n       <use x=\"222.65625\" xlink:href=\"#DejaVuSans-53\"/>\r\n      </g>\r\n     </g>\r\n    </g>\r\n    <g id=\"ytick_2\">\r\n     <g id=\"line2d_8\">\r\n      <g>\r\n       <use style=\"stroke:#000000;stroke-width:0.8;\" x=\"83.36125\" xlink:href=\"#mccefa056b7\" y=\"188.276316\"/>\r\n      </g>\r\n     </g>\r\n     <g id=\"text_9\">\r\n      <!-- 0.500 -->\r\n      <g transform=\"translate(30.55625 194.355066)scale(0.16 -0.16)\">\r\n       <use xlink:href=\"#DejaVuSans-48\"/>\r\n       <use x=\"63.623047\" xlink:href=\"#DejaVuSans-46\"/>\r\n       <use x=\"95.410156\" xlink:href=\"#DejaVuSans-53\"/>\r\n       <use x=\"159.033203\" xlink:href=\"#DejaVuSans-48\"/>\r\n       <use x=\"222.65625\" xlink:href=\"#DejaVuSans-48\"/>\r\n      </g>\r\n     </g>\r\n    </g>\r\n    <g id=\"ytick_3\">\r\n     <g id=\"line2d_9\">\r\n      <g>\r\n       <use style=\"stroke:#000000;stroke-width:0.8;\" x=\"83.36125\" xlink:href=\"#mccefa056b7\" y=\"161.46364\"/>\r\n      </g>\r\n     </g>\r\n     <g id=\"text_10\">\r\n      <!-- 0.525 -->\r\n      <g transform=\"translate(30.55625 167.54239)scale(0.16 -0.16)\">\r\n       <use xlink:href=\"#DejaVuSans-48\"/>\r\n       <use x=\"63.623047\" xlink:href=\"#DejaVuSans-46\"/>\r\n       <use x=\"95.410156\" xlink:href=\"#DejaVuSans-53\"/>\r\n       <use x=\"159.033203\" xlink:href=\"#DejaVuSans-50\"/>\r\n       <use x=\"222.65625\" xlink:href=\"#DejaVuSans-53\"/>\r\n      </g>\r\n     </g>\r\n    </g>\r\n    <g id=\"ytick_4\">\r\n     <g id=\"line2d_10\">\r\n      <g>\r\n       <use style=\"stroke:#000000;stroke-width:0.8;\" x=\"83.36125\" xlink:href=\"#mccefa056b7\" y=\"134.650965\"/>\r\n      </g>\r\n     </g>\r\n     <g id=\"text_11\">\r\n      <!-- 0.550 -->\r\n      <g transform=\"translate(30.55625 140.729715)scale(0.16 -0.16)\">\r\n       <use xlink:href=\"#DejaVuSans-48\"/>\r\n       <use x=\"63.623047\" xlink:href=\"#DejaVuSans-46\"/>\r\n       <use x=\"95.410156\" xlink:href=\"#DejaVuSans-53\"/>\r\n       <use x=\"159.033203\" xlink:href=\"#DejaVuSans-53\"/>\r\n       <use x=\"222.65625\" xlink:href=\"#DejaVuSans-48\"/>\r\n      </g>\r\n     </g>\r\n    </g>\r\n    <g id=\"ytick_5\">\r\n     <g id=\"line2d_11\">\r\n      <g>\r\n       <use style=\"stroke:#000000;stroke-width:0.8;\" x=\"83.36125\" xlink:href=\"#mccefa056b7\" y=\"107.838289\"/>\r\n      </g>\r\n     </g>\r\n     <g id=\"text_12\">\r\n      <!-- 0.575 -->\r\n      <g transform=\"translate(30.55625 113.917039)scale(0.16 -0.16)\">\r\n       <use xlink:href=\"#DejaVuSans-48\"/>\r\n       <use x=\"63.623047\" xlink:href=\"#DejaVuSans-46\"/>\r\n       <use x=\"95.410156\" xlink:href=\"#DejaVuSans-53\"/>\r\n       <use x=\"159.033203\" xlink:href=\"#DejaVuSans-55\"/>\r\n       <use x=\"222.65625\" xlink:href=\"#DejaVuSans-53\"/>\r\n      </g>\r\n     </g>\r\n    </g>\r\n    <g id=\"ytick_6\">\r\n     <g id=\"line2d_12\">\r\n      <g>\r\n       <use style=\"stroke:#000000;stroke-width:0.8;\" x=\"83.36125\" xlink:href=\"#mccefa056b7\" y=\"81.025613\"/>\r\n      </g>\r\n     </g>\r\n     <g id=\"text_13\">\r\n      <!-- 0.600 -->\r\n      <g transform=\"translate(30.55625 87.104363)scale(0.16 -0.16)\">\r\n       <defs>\r\n        <path d=\"M 33.015625 40.375 \r\nQ 26.375 40.375 22.484375 35.828125 \r\nQ 18.609375 31.296875 18.609375 23.390625 \r\nQ 18.609375 15.53125 22.484375 10.953125 \r\nQ 26.375 6.390625 33.015625 6.390625 \r\nQ 39.65625 6.390625 43.53125 10.953125 \r\nQ 47.40625 15.53125 47.40625 23.390625 \r\nQ 47.40625 31.296875 43.53125 35.828125 \r\nQ 39.65625 40.375 33.015625 40.375 \r\nz\r\nM 52.59375 71.296875 \r\nL 52.59375 62.3125 \r\nQ 48.875 64.0625 45.09375 64.984375 \r\nQ 41.3125 65.921875 37.59375 65.921875 \r\nQ 27.828125 65.921875 22.671875 59.328125 \r\nQ 17.53125 52.734375 16.796875 39.40625 \r\nQ 19.671875 43.65625 24.015625 45.921875 \r\nQ 28.375 48.1875 33.59375 48.1875 \r\nQ 44.578125 48.1875 50.953125 41.515625 \r\nQ 57.328125 34.859375 57.328125 23.390625 \r\nQ 57.328125 12.15625 50.6875 5.359375 \r\nQ 44.046875 -1.421875 33.015625 -1.421875 \r\nQ 20.359375 -1.421875 13.671875 8.265625 \r\nQ 6.984375 17.96875 6.984375 36.375 \r\nQ 6.984375 53.65625 15.1875 63.9375 \r\nQ 23.390625 74.21875 37.203125 74.21875 \r\nQ 40.921875 74.21875 44.703125 73.484375 \r\nQ 48.484375 72.75 52.59375 71.296875 \r\nz\r\n\" id=\"DejaVuSans-54\"/>\r\n       </defs>\r\n       <use xlink:href=\"#DejaVuSans-48\"/>\r\n       <use x=\"63.623047\" xlink:href=\"#DejaVuSans-46\"/>\r\n       <use x=\"95.410156\" xlink:href=\"#DejaVuSans-54\"/>\r\n       <use x=\"159.033203\" xlink:href=\"#DejaVuSans-48\"/>\r\n       <use x=\"222.65625\" xlink:href=\"#DejaVuSans-48\"/>\r\n      </g>\r\n     </g>\r\n    </g>\r\n    <g id=\"ytick_7\">\r\n     <g id=\"line2d_13\">\r\n      <g>\r\n       <use style=\"stroke:#000000;stroke-width:0.8;\" x=\"83.36125\" xlink:href=\"#mccefa056b7\" y=\"54.212938\"/>\r\n      </g>\r\n     </g>\r\n     <g id=\"text_14\">\r\n      <!-- 0.625 -->\r\n      <g transform=\"translate(30.55625 60.291688)scale(0.16 -0.16)\">\r\n       <use xlink:href=\"#DejaVuSans-48\"/>\r\n       <use x=\"63.623047\" xlink:href=\"#DejaVuSans-46\"/>\r\n       <use x=\"95.410156\" xlink:href=\"#DejaVuSans-54\"/>\r\n       <use x=\"159.033203\" xlink:href=\"#DejaVuSans-50\"/>\r\n       <use x=\"222.65625\" xlink:href=\"#DejaVuSans-53\"/>\r\n      </g>\r\n     </g>\r\n    </g>\r\n    <g id=\"ytick_8\">\r\n     <g id=\"line2d_14\">\r\n      <g>\r\n       <use style=\"stroke:#000000;stroke-width:0.8;\" x=\"83.36125\" xlink:href=\"#mccefa056b7\" y=\"27.400262\"/>\r\n      </g>\r\n     </g>\r\n     <g id=\"text_15\">\r\n      <!-- 0.650 -->\r\n      <g transform=\"translate(30.55625 33.479012)scale(0.16 -0.16)\">\r\n       <use xlink:href=\"#DejaVuSans-48\"/>\r\n       <use x=\"63.623047\" xlink:href=\"#DejaVuSans-46\"/>\r\n       <use x=\"95.410156\" xlink:href=\"#DejaVuSans-54\"/>\r\n       <use x=\"159.033203\" xlink:href=\"#DejaVuSans-53\"/>\r\n       <use x=\"222.65625\" xlink:href=\"#DejaVuSans-48\"/>\r\n      </g>\r\n     </g>\r\n    </g>\r\n    <g id=\"text_16\">\r\n     <!-- Objective Value -->\r\n     <g transform=\"translate(22.396875 195.960937)rotate(-90)scale(0.2 -0.2)\">\r\n      <defs>\r\n       <path d=\"M 39.40625 66.21875 \r\nQ 28.65625 66.21875 22.328125 58.203125 \r\nQ 16.015625 50.203125 16.015625 36.375 \r\nQ 16.015625 22.609375 22.328125 14.59375 \r\nQ 28.65625 6.59375 39.40625 6.59375 \r\nQ 50.140625 6.59375 56.421875 14.59375 \r\nQ 62.703125 22.609375 62.703125 36.375 \r\nQ 62.703125 50.203125 56.421875 58.203125 \r\nQ 50.140625 66.21875 39.40625 66.21875 \r\nz\r\nM 39.40625 74.21875 \r\nQ 54.734375 74.21875 63.90625 63.9375 \r\nQ 73.09375 53.65625 73.09375 36.375 \r\nQ 73.09375 19.140625 63.90625 8.859375 \r\nQ 54.734375 -1.421875 39.40625 -1.421875 \r\nQ 24.03125 -1.421875 14.8125 8.828125 \r\nQ 5.609375 19.09375 5.609375 36.375 \r\nQ 5.609375 53.65625 14.8125 63.9375 \r\nQ 24.03125 74.21875 39.40625 74.21875 \r\nz\r\n\" id=\"DejaVuSans-79\"/>\r\n       <path d=\"M 48.6875 27.296875 \r\nQ 48.6875 37.203125 44.609375 42.84375 \r\nQ 40.53125 48.484375 33.40625 48.484375 \r\nQ 26.265625 48.484375 22.1875 42.84375 \r\nQ 18.109375 37.203125 18.109375 27.296875 \r\nQ 18.109375 17.390625 22.1875 11.75 \r\nQ 26.265625 6.109375 33.40625 6.109375 \r\nQ 40.53125 6.109375 44.609375 11.75 \r\nQ 48.6875 17.390625 48.6875 27.296875 \r\nz\r\nM 18.109375 46.390625 \r\nQ 20.953125 51.265625 25.265625 53.625 \r\nQ 29.59375 56 35.59375 56 \r\nQ 45.5625 56 51.78125 48.09375 \r\nQ 58.015625 40.1875 58.015625 27.296875 \r\nQ 58.015625 14.40625 51.78125 6.484375 \r\nQ 45.5625 -1.421875 35.59375 -1.421875 \r\nQ 29.59375 -1.421875 25.265625 0.953125 \r\nQ 20.953125 3.328125 18.109375 8.203125 \r\nL 18.109375 0 \r\nL 9.078125 0 \r\nL 9.078125 75.984375 \r\nL 18.109375 75.984375 \r\nz\r\n\" id=\"DejaVuSans-98\"/>\r\n       <path d=\"M 9.421875 54.6875 \r\nL 18.40625 54.6875 \r\nL 18.40625 -0.984375 \r\nQ 18.40625 -11.421875 14.421875 -16.109375 \r\nQ 10.453125 -20.796875 1.609375 -20.796875 \r\nL -1.8125 -20.796875 \r\nL -1.8125 -13.1875 \r\nL 0.59375 -13.1875 \r\nQ 5.71875 -13.1875 7.5625 -10.8125 \r\nQ 9.421875 -8.453125 9.421875 -0.984375 \r\nz\r\nM 9.421875 75.984375 \r\nL 18.40625 75.984375 \r\nL 18.40625 64.59375 \r\nL 9.421875 64.59375 \r\nz\r\n\" id=\"DejaVuSans-106\"/>\r\n       <path d=\"M 56.203125 29.59375 \r\nL 56.203125 25.203125 \r\nL 14.890625 25.203125 \r\nQ 15.484375 15.921875 20.484375 11.0625 \r\nQ 25.484375 6.203125 34.421875 6.203125 \r\nQ 39.59375 6.203125 44.453125 7.46875 \r\nQ 49.3125 8.734375 54.109375 11.28125 \r\nL 54.109375 2.78125 \r\nQ 49.265625 0.734375 44.1875 -0.34375 \r\nQ 39.109375 -1.421875 33.890625 -1.421875 \r\nQ 20.796875 -1.421875 13.15625 6.1875 \r\nQ 5.515625 13.8125 5.515625 26.8125 \r\nQ 5.515625 40.234375 12.765625 48.109375 \r\nQ 20.015625 56 32.328125 56 \r\nQ 43.359375 56 49.78125 48.890625 \r\nQ 56.203125 41.796875 56.203125 29.59375 \r\nz\r\nM 47.21875 32.234375 \r\nQ 47.125 39.59375 43.09375 43.984375 \r\nQ 39.0625 48.390625 32.421875 48.390625 \r\nQ 24.90625 48.390625 20.390625 44.140625 \r\nQ 15.875 39.890625 15.1875 32.171875 \r\nz\r\n\" id=\"DejaVuSans-101\"/>\r\n       <path d=\"M 18.3125 70.21875 \r\nL 18.3125 54.6875 \r\nL 36.8125 54.6875 \r\nL 36.8125 47.703125 \r\nL 18.3125 47.703125 \r\nL 18.3125 18.015625 \r\nQ 18.3125 11.328125 20.140625 9.421875 \r\nQ 21.96875 7.515625 27.59375 7.515625 \r\nL 36.8125 7.515625 \r\nL 36.8125 0 \r\nL 27.59375 0 \r\nQ 17.1875 0 13.234375 3.875 \r\nQ 9.28125 7.765625 9.28125 18.015625 \r\nL 9.28125 47.703125 \r\nL 2.6875 47.703125 \r\nL 2.6875 54.6875 \r\nL 9.28125 54.6875 \r\nL 9.28125 70.21875 \r\nz\r\n\" id=\"DejaVuSans-116\"/>\r\n       <path d=\"M 9.421875 54.6875 \r\nL 18.40625 54.6875 \r\nL 18.40625 0 \r\nL 9.421875 0 \r\nz\r\nM 9.421875 75.984375 \r\nL 18.40625 75.984375 \r\nL 18.40625 64.59375 \r\nL 9.421875 64.59375 \r\nz\r\n\" id=\"DejaVuSans-105\"/>\r\n       <path d=\"M 2.984375 54.6875 \r\nL 12.5 54.6875 \r\nL 29.59375 8.796875 \r\nL 46.6875 54.6875 \r\nL 56.203125 54.6875 \r\nL 35.6875 0 \r\nL 23.484375 0 \r\nz\r\n\" id=\"DejaVuSans-118\"/>\r\n       <path id=\"DejaVuSans-32\"/>\r\n       <path d=\"M 28.609375 0 \r\nL 0.78125 72.90625 \r\nL 11.078125 72.90625 \r\nL 34.1875 11.53125 \r\nL 57.328125 72.90625 \r\nL 67.578125 72.90625 \r\nL 39.796875 0 \r\nz\r\n\" id=\"DejaVuSans-86\"/>\r\n       <path d=\"M 34.28125 27.484375 \r\nQ 23.390625 27.484375 19.1875 25 \r\nQ 14.984375 22.515625 14.984375 16.5 \r\nQ 14.984375 11.71875 18.140625 8.90625 \r\nQ 21.296875 6.109375 26.703125 6.109375 \r\nQ 34.1875 6.109375 38.703125 11.40625 \r\nQ 43.21875 16.703125 43.21875 25.484375 \r\nL 43.21875 27.484375 \r\nz\r\nM 52.203125 31.203125 \r\nL 52.203125 0 \r\nL 43.21875 0 \r\nL 43.21875 8.296875 \r\nQ 40.140625 3.328125 35.546875 0.953125 \r\nQ 30.953125 -1.421875 24.3125 -1.421875 \r\nQ 15.921875 -1.421875 10.953125 3.296875 \r\nQ 6 8.015625 6 15.921875 \r\nQ 6 25.140625 12.171875 29.828125 \r\nQ 18.359375 34.515625 30.609375 34.515625 \r\nL 43.21875 34.515625 \r\nL 43.21875 35.40625 \r\nQ 43.21875 41.609375 39.140625 45 \r\nQ 35.0625 48.390625 27.6875 48.390625 \r\nQ 23 48.390625 18.546875 47.265625 \r\nQ 14.109375 46.140625 10.015625 43.890625 \r\nL 10.015625 52.203125 \r\nQ 14.9375 54.109375 19.578125 55.046875 \r\nQ 24.21875 56 28.609375 56 \r\nQ 40.484375 56 46.34375 49.84375 \r\nQ 52.203125 43.703125 52.203125 31.203125 \r\nz\r\n\" id=\"DejaVuSans-97\"/>\r\n       <path d=\"M 9.421875 75.984375 \r\nL 18.40625 75.984375 \r\nL 18.40625 0 \r\nL 9.421875 0 \r\nz\r\n\" id=\"DejaVuSans-108\"/>\r\n       <path d=\"M 8.5 21.578125 \r\nL 8.5 54.6875 \r\nL 17.484375 54.6875 \r\nL 17.484375 21.921875 \r\nQ 17.484375 14.15625 20.5 10.265625 \r\nQ 23.53125 6.390625 29.59375 6.390625 \r\nQ 36.859375 6.390625 41.078125 11.03125 \r\nQ 45.3125 15.671875 45.3125 23.6875 \r\nL 45.3125 54.6875 \r\nL 54.296875 54.6875 \r\nL 54.296875 0 \r\nL 45.3125 0 \r\nL 45.3125 8.40625 \r\nQ 42.046875 3.421875 37.71875 1 \r\nQ 33.40625 -1.421875 27.6875 -1.421875 \r\nQ 18.265625 -1.421875 13.375 4.4375 \r\nQ 8.5 10.296875 8.5 21.578125 \r\nz\r\nM 31.109375 56 \r\nz\r\n\" id=\"DejaVuSans-117\"/>\r\n      </defs>\r\n      <use xlink:href=\"#DejaVuSans-79\"/>\r\n      <use x=\"78.710938\" xlink:href=\"#DejaVuSans-98\"/>\r\n      <use x=\"142.1875\" xlink:href=\"#DejaVuSans-106\"/>\r\n      <use x=\"169.970703\" xlink:href=\"#DejaVuSans-101\"/>\r\n      <use x=\"231.494141\" xlink:href=\"#DejaVuSans-99\"/>\r\n      <use x=\"286.474609\" xlink:href=\"#DejaVuSans-116\"/>\r\n      <use x=\"325.683594\" xlink:href=\"#DejaVuSans-105\"/>\r\n      <use x=\"353.466797\" xlink:href=\"#DejaVuSans-118\"/>\r\n      <use x=\"412.646484\" xlink:href=\"#DejaVuSans-101\"/>\r\n      <use x=\"474.169922\" xlink:href=\"#DejaVuSans-32\"/>\r\n      <use x=\"505.957031\" xlink:href=\"#DejaVuSans-86\"/>\r\n      <use x=\"566.615234\" xlink:href=\"#DejaVuSans-97\"/>\r\n      <use x=\"627.894531\" xlink:href=\"#DejaVuSans-108\"/>\r\n      <use x=\"655.677734\" xlink:href=\"#DejaVuSans-117\"/>\r\n      <use x=\"719.056641\" xlink:href=\"#DejaVuSans-101\"/>\r\n     </g>\r\n    </g>\r\n   </g>\r\n   <g id=\"line2d_15\">\r\n    <path clip-path=\"url(#p403fc91357)\" d=\"M 98.527463 28.75787 \r\nL 104.717754 80.380151 \r\nL 110.908044 112.912689 \r\nL 117.098335 134.807274 \r\nL 123.288626 150.360661 \r\nL 129.478917 161.883019 \r\nL 135.669208 170.699717 \r\nL 141.859499 177.61771 \r\nL 148.04979 183.154227 \r\nL 154.240081 187.65561 \r\nL 160.430372 191.362525 \r\nL 166.620662 194.447527 \r\nL 172.810953 197.037661 \r\nL 179.001244 199.228594 \r\nL 185.191535 201.093756 \r\nL 191.381826 202.690431 \r\nL 197.572117 204.063945 \r\nL 203.762408 205.250591 \r\nL 209.952699 206.279742 \r\nL 216.14299 207.175386 \r\nL 222.333281 207.957275 \r\nL 228.523571 208.641789 \r\nL 234.713862 209.242603 \r\nL 240.904153 209.771197 \r\nL 247.094444 210.237259 \r\nL 253.284735 210.649007 \r\nL 259.475026 211.01344 \r\nL 265.665317 211.336544 \r\nL 271.855608 211.623458 \r\nL 278.045899 211.878609 \r\nL 284.236189 212.105821 \r\nL 290.42648 212.308409 \r\nL 296.616771 212.489257 \r\nL 302.807062 212.650874 \r\nL 308.997353 212.795454 \r\nL 315.187644 212.924917 \r\nL 321.377935 213.040948 \r\nL 327.568226 213.145028 \r\nL 333.758517 213.238461 \r\nL 339.948807 213.322399 \r\nL 346.139098 213.39786 \r\nL 352.329389 213.465742 \r\nL 358.51968 213.526844 \r\nL 364.709971 213.581876 \r\nL 370.900262 213.631466 \r\nL 377.090553 213.676176 \r\nL 383.280844 213.716504 \r\nL 389.471135 213.752896 \r\nL 395.661425 213.78575 \r\nL 401.851716 213.815421 \r\n\" style=\"fill:none;stroke:#0000ff;stroke-dasharray:14.8,6.4;stroke-dashoffset:0;stroke-width:4;\"/>\r\n   </g>\r\n   <g id=\"line2d_16\">\r\n    <path clip-path=\"url(#p403fc91357)\" d=\"M 98.527463 151.283445 \r\nL 104.717754 201.859708 \r\nL 110.908044 212.660101 \r\nL 117.098335 216.247438 \r\nL 123.288626 217.613916 \r\nL 129.478917 218.166748 \r\nL 135.669208 218.394916 \r\nL 141.859499 218.487752 \r\nL 148.04979 218.52325 \r\nL 154.240081 218.53466 \r\nL 160.430372 218.536364 \r\nL 166.620662 218.534552 \r\nL 172.810953 218.531819 \r\nL 179.001244 218.529174 \r\nL 185.191535 218.52695 \r\nL 191.381826 218.525197 \r\nL 197.572117 218.523864 \r\nL 203.762408 218.522872 \r\nL 209.952699 218.522143 \r\nL 216.14299 218.521611 \r\nL 222.333281 218.521226 \r\nL 228.523571 218.520949 \r\nL 234.713862 218.520748 \r\nL 240.904153 218.520604 \r\nL 247.094444 218.520501 \r\nL 253.284735 218.520427 \r\nL 259.475026 218.520373 \r\nL 265.665317 218.520335 \r\nL 271.855608 218.520308 \r\nL 278.045899 218.520288 \r\nL 284.236189 218.520274 \r\nL 290.42648 218.520264 \r\nL 296.616771 218.520257 \r\nL 302.807062 218.520251 \r\nL 308.997353 218.520248 \r\nL 315.187644 218.520245 \r\nL 321.377935 218.520243 \r\nL 327.568226 218.520241 \r\nL 333.758517 218.52024 \r\nL 339.948807 218.52024 \r\nL 346.139098 218.520239 \r\nL 352.329389 218.520239 \r\nL 358.51968 218.520239 \r\nL 364.709971 218.520238 \r\nL 370.900262 218.520238 \r\nL 377.090553 218.520238 \r\nL 383.280844 218.520238 \r\nL 389.471135 218.520238 \r\nL 395.661425 218.520238 \r\nL 401.851716 218.520238 \r\n\" style=\"fill:none;stroke:#ff0000;stroke-linecap:square;stroke-width:2;\"/>\r\n   </g>\r\n   <g id=\"line2d_17\">\r\n    <path clip-path=\"url(#p403fc91357)\" d=\"M 98.527463 17.263636 \r\nL 104.717754 71.624126 \r\nL 110.908044 106.112753 \r\nL 117.098335 129.332655 \r\nL 123.288626 145.811798 \r\nL 129.478917 157.996044 \r\nL 135.669208 167.273984 \r\nL 141.859499 174.539735 \r\nL 148.04979 180.369326 \r\nL 154.240081 185.095938 \r\nL 160.430372 188.969102 \r\nL 166.620662 192.202638 \r\nL 172.810953 194.921042 \r\nL 179.001244 197.203619 \r\nL 185.191535 199.147744 \r\nL 191.381826 200.808305 \r\nL 197.572117 202.245622 \r\nL 203.762408 203.47859 \r\nL 209.952699 204.553556 \r\nL 216.14299 205.485442 \r\nL 222.333281 206.297984 \r\nL 228.523571 207.010508 \r\nL 234.713862 207.636398 \r\nL 240.904153 208.190593 \r\nL 247.094444 208.673966 \r\nL 253.284735 209.097651 \r\nL 259.475026 209.47967 \r\nL 265.665317 209.81504 \r\nL 271.855608 210.114069 \r\nL 278.045899 210.379662 \r\nL 284.236189 210.615702 \r\nL 290.42648 210.824723 \r\nL 296.616771 211.016842 \r\nL 302.807062 211.176298 \r\nL 308.997353 211.328825 \r\nL 315.187644 211.475857 \r\nL 321.377935 211.589933 \r\nL 327.568226 211.698509 \r\nL 333.758517 211.792271 \r\nL 339.948807 211.876035 \r\nL 346.139098 211.966814 \r\nL 352.329389 212.031897 \r\nL 358.51968 212.090507 \r\nL 364.709971 212.145929 \r\nL 370.900262 212.20362 \r\nL 377.090553 212.246111 \r\nL 383.280844 212.287265 \r\nL 389.471135 212.327676 \r\nL 395.661425 212.359737 \r\nL 401.851716 212.390679 \r\n\" style=\"fill:none;stroke:#008000;stroke-dasharray:14.8,6.4;stroke-dashoffset:0;stroke-width:4;\"/>\r\n   </g>\r\n   <g id=\"line2d_18\">\r\n    <path clip-path=\"url(#p403fc91357)\" d=\"M 98.527463 146.550815 \r\nL 104.717754 199.831469 \r\nL 110.908044 211.095516 \r\nL 117.098335 214.83151 \r\nL 123.288626 216.251542 \r\nL 129.478917 216.827086 \r\nL 135.669208 217.058031 \r\nL 141.859499 217.137282 \r\nL 148.04979 217.190622 \r\nL 154.240081 217.207296 \r\nL 160.430372 217.212098 \r\nL 166.620662 217.198461 \r\nL 172.810953 217.197211 \r\nL 179.001244 217.198291 \r\nL 185.191535 217.199911 \r\nL 191.381826 217.212626 \r\nL 197.572117 217.183676 \r\nL 203.762408 217.198111 \r\nL 209.952699 217.188277 \r\nL 216.14299 217.18634 \r\nL 222.333281 217.198431 \r\nL 228.523571 217.195074 \r\nL 234.713862 217.193258 \r\nL 240.904153 217.179276 \r\nL 247.094444 217.181305 \r\nL 253.284735 217.199626 \r\nL 259.475026 217.19345 \r\nL 265.665317 217.196467 \r\nL 271.855608 217.178544 \r\nL 278.045899 217.192311 \r\nL 284.236189 217.175656 \r\nL 290.42648 217.196558 \r\nL 296.616771 217.200631 \r\nL 302.807062 217.198326 \r\nL 308.997353 217.181929 \r\nL 315.187644 217.192158 \r\nL 321.377935 217.194943 \r\nL 327.568226 217.172229 \r\nL 333.758517 217.192242 \r\nL 339.948807 217.200916 \r\nL 346.139098 217.189718 \r\nL 352.329389 217.197924 \r\nL 358.51968 217.185918 \r\nL 364.709971 217.218372 \r\nL 370.900262 217.178972 \r\nL 377.090553 217.183854 \r\nL 383.280844 217.202814 \r\nL 389.471135 217.210633 \r\nL 395.661425 217.199484 \r\nL 401.851716 217.191399 \r\n\" style=\"fill:none;stroke:#1f77b4;stroke-linecap:square;stroke-width:2;\"/>\r\n    <defs>\r\n     <path d=\"M 0 -3 \r\nL -2.85317 -0.927051 \r\nL -1.763356 2.427051 \r\nL 1.763356 2.427051 \r\nL 2.85317 -0.927051 \r\nz\r\n\" id=\"md88b9aaf97\" style=\"stroke:#1f77b4;stroke-linejoin:miter;\"/>\r\n    </defs>\r\n    <g clip-path=\"url(#p403fc91357)\">\r\n     <use style=\"fill:#1f77b4;stroke:#1f77b4;stroke-linejoin:miter;\" x=\"98.527463\" xlink:href=\"#md88b9aaf97\" y=\"146.550815\"/>\r\n     <use style=\"fill:#1f77b4;stroke:#1f77b4;stroke-linejoin:miter;\" x=\"104.717754\" xlink:href=\"#md88b9aaf97\" y=\"199.831469\"/>\r\n     <use style=\"fill:#1f77b4;stroke:#1f77b4;stroke-linejoin:miter;\" x=\"110.908044\" xlink:href=\"#md88b9aaf97\" y=\"211.095516\"/>\r\n     <use style=\"fill:#1f77b4;stroke:#1f77b4;stroke-linejoin:miter;\" x=\"117.098335\" xlink:href=\"#md88b9aaf97\" y=\"214.83151\"/>\r\n     <use style=\"fill:#1f77b4;stroke:#1f77b4;stroke-linejoin:miter;\" x=\"123.288626\" xlink:href=\"#md88b9aaf97\" y=\"216.251542\"/>\r\n     <use style=\"fill:#1f77b4;stroke:#1f77b4;stroke-linejoin:miter;\" x=\"129.478917\" xlink:href=\"#md88b9aaf97\" y=\"216.827086\"/>\r\n     <use style=\"fill:#1f77b4;stroke:#1f77b4;stroke-linejoin:miter;\" x=\"135.669208\" xlink:href=\"#md88b9aaf97\" y=\"217.058031\"/>\r\n     <use style=\"fill:#1f77b4;stroke:#1f77b4;stroke-linejoin:miter;\" x=\"141.859499\" xlink:href=\"#md88b9aaf97\" y=\"217.137282\"/>\r\n     <use style=\"fill:#1f77b4;stroke:#1f77b4;stroke-linejoin:miter;\" x=\"148.04979\" xlink:href=\"#md88b9aaf97\" y=\"217.190622\"/>\r\n     <use style=\"fill:#1f77b4;stroke:#1f77b4;stroke-linejoin:miter;\" x=\"154.240081\" xlink:href=\"#md88b9aaf97\" y=\"217.207296\"/>\r\n     <use style=\"fill:#1f77b4;stroke:#1f77b4;stroke-linejoin:miter;\" x=\"160.430372\" xlink:href=\"#md88b9aaf97\" y=\"217.212098\"/>\r\n     <use style=\"fill:#1f77b4;stroke:#1f77b4;stroke-linejoin:miter;\" x=\"166.620662\" xlink:href=\"#md88b9aaf97\" y=\"217.198461\"/>\r\n     <use style=\"fill:#1f77b4;stroke:#1f77b4;stroke-linejoin:miter;\" x=\"172.810953\" xlink:href=\"#md88b9aaf97\" y=\"217.197211\"/>\r\n     <use style=\"fill:#1f77b4;stroke:#1f77b4;stroke-linejoin:miter;\" x=\"179.001244\" xlink:href=\"#md88b9aaf97\" y=\"217.198291\"/>\r\n     <use style=\"fill:#1f77b4;stroke:#1f77b4;stroke-linejoin:miter;\" x=\"185.191535\" xlink:href=\"#md88b9aaf97\" y=\"217.199911\"/>\r\n     <use style=\"fill:#1f77b4;stroke:#1f77b4;stroke-linejoin:miter;\" x=\"191.381826\" xlink:href=\"#md88b9aaf97\" y=\"217.212626\"/>\r\n     <use style=\"fill:#1f77b4;stroke:#1f77b4;stroke-linejoin:miter;\" x=\"197.572117\" xlink:href=\"#md88b9aaf97\" y=\"217.183676\"/>\r\n     <use style=\"fill:#1f77b4;stroke:#1f77b4;stroke-linejoin:miter;\" x=\"203.762408\" xlink:href=\"#md88b9aaf97\" y=\"217.198111\"/>\r\n     <use style=\"fill:#1f77b4;stroke:#1f77b4;stroke-linejoin:miter;\" x=\"209.952699\" xlink:href=\"#md88b9aaf97\" y=\"217.188277\"/>\r\n     <use style=\"fill:#1f77b4;stroke:#1f77b4;stroke-linejoin:miter;\" x=\"216.14299\" xlink:href=\"#md88b9aaf97\" y=\"217.18634\"/>\r\n     <use style=\"fill:#1f77b4;stroke:#1f77b4;stroke-linejoin:miter;\" x=\"222.333281\" xlink:href=\"#md88b9aaf97\" y=\"217.198431\"/>\r\n     <use style=\"fill:#1f77b4;stroke:#1f77b4;stroke-linejoin:miter;\" x=\"228.523571\" xlink:href=\"#md88b9aaf97\" y=\"217.195074\"/>\r\n     <use style=\"fill:#1f77b4;stroke:#1f77b4;stroke-linejoin:miter;\" x=\"234.713862\" xlink:href=\"#md88b9aaf97\" y=\"217.193258\"/>\r\n     <use style=\"fill:#1f77b4;stroke:#1f77b4;stroke-linejoin:miter;\" x=\"240.904153\" xlink:href=\"#md88b9aaf97\" y=\"217.179276\"/>\r\n     <use style=\"fill:#1f77b4;stroke:#1f77b4;stroke-linejoin:miter;\" x=\"247.094444\" xlink:href=\"#md88b9aaf97\" y=\"217.181305\"/>\r\n     <use style=\"fill:#1f77b4;stroke:#1f77b4;stroke-linejoin:miter;\" x=\"253.284735\" xlink:href=\"#md88b9aaf97\" y=\"217.199626\"/>\r\n     <use style=\"fill:#1f77b4;stroke:#1f77b4;stroke-linejoin:miter;\" x=\"259.475026\" xlink:href=\"#md88b9aaf97\" y=\"217.19345\"/>\r\n     <use style=\"fill:#1f77b4;stroke:#1f77b4;stroke-linejoin:miter;\" x=\"265.665317\" xlink:href=\"#md88b9aaf97\" y=\"217.196467\"/>\r\n     <use style=\"fill:#1f77b4;stroke:#1f77b4;stroke-linejoin:miter;\" x=\"271.855608\" xlink:href=\"#md88b9aaf97\" y=\"217.178544\"/>\r\n     <use style=\"fill:#1f77b4;stroke:#1f77b4;stroke-linejoin:miter;\" x=\"278.045899\" xlink:href=\"#md88b9aaf97\" y=\"217.192311\"/>\r\n     <use style=\"fill:#1f77b4;stroke:#1f77b4;stroke-linejoin:miter;\" x=\"284.236189\" xlink:href=\"#md88b9aaf97\" y=\"217.175656\"/>\r\n     <use style=\"fill:#1f77b4;stroke:#1f77b4;stroke-linejoin:miter;\" x=\"290.42648\" xlink:href=\"#md88b9aaf97\" y=\"217.196558\"/>\r\n     <use style=\"fill:#1f77b4;stroke:#1f77b4;stroke-linejoin:miter;\" x=\"296.616771\" xlink:href=\"#md88b9aaf97\" y=\"217.200631\"/>\r\n     <use style=\"fill:#1f77b4;stroke:#1f77b4;stroke-linejoin:miter;\" x=\"302.807062\" xlink:href=\"#md88b9aaf97\" y=\"217.198326\"/>\r\n     <use style=\"fill:#1f77b4;stroke:#1f77b4;stroke-linejoin:miter;\" x=\"308.997353\" xlink:href=\"#md88b9aaf97\" y=\"217.181929\"/>\r\n     <use style=\"fill:#1f77b4;stroke:#1f77b4;stroke-linejoin:miter;\" x=\"315.187644\" xlink:href=\"#md88b9aaf97\" y=\"217.192158\"/>\r\n     <use style=\"fill:#1f77b4;stroke:#1f77b4;stroke-linejoin:miter;\" x=\"321.377935\" xlink:href=\"#md88b9aaf97\" y=\"217.194943\"/>\r\n     <use style=\"fill:#1f77b4;stroke:#1f77b4;stroke-linejoin:miter;\" x=\"327.568226\" xlink:href=\"#md88b9aaf97\" y=\"217.172229\"/>\r\n     <use style=\"fill:#1f77b4;stroke:#1f77b4;stroke-linejoin:miter;\" x=\"333.758517\" xlink:href=\"#md88b9aaf97\" y=\"217.192242\"/>\r\n     <use style=\"fill:#1f77b4;stroke:#1f77b4;stroke-linejoin:miter;\" x=\"339.948807\" xlink:href=\"#md88b9aaf97\" y=\"217.200916\"/>\r\n     <use style=\"fill:#1f77b4;stroke:#1f77b4;stroke-linejoin:miter;\" x=\"346.139098\" xlink:href=\"#md88b9aaf97\" y=\"217.189718\"/>\r\n     <use style=\"fill:#1f77b4;stroke:#1f77b4;stroke-linejoin:miter;\" x=\"352.329389\" xlink:href=\"#md88b9aaf97\" y=\"217.197924\"/>\r\n     <use style=\"fill:#1f77b4;stroke:#1f77b4;stroke-linejoin:miter;\" x=\"358.51968\" xlink:href=\"#md88b9aaf97\" y=\"217.185918\"/>\r\n     <use style=\"fill:#1f77b4;stroke:#1f77b4;stroke-linejoin:miter;\" x=\"364.709971\" xlink:href=\"#md88b9aaf97\" y=\"217.218372\"/>\r\n     <use style=\"fill:#1f77b4;stroke:#1f77b4;stroke-linejoin:miter;\" x=\"370.900262\" xlink:href=\"#md88b9aaf97\" y=\"217.178972\"/>\r\n     <use style=\"fill:#1f77b4;stroke:#1f77b4;stroke-linejoin:miter;\" x=\"377.090553\" xlink:href=\"#md88b9aaf97\" y=\"217.183854\"/>\r\n     <use style=\"fill:#1f77b4;stroke:#1f77b4;stroke-linejoin:miter;\" x=\"383.280844\" xlink:href=\"#md88b9aaf97\" y=\"217.202814\"/>\r\n     <use style=\"fill:#1f77b4;stroke:#1f77b4;stroke-linejoin:miter;\" x=\"389.471135\" xlink:href=\"#md88b9aaf97\" y=\"217.210633\"/>\r\n     <use style=\"fill:#1f77b4;stroke:#1f77b4;stroke-linejoin:miter;\" x=\"395.661425\" xlink:href=\"#md88b9aaf97\" y=\"217.199484\"/>\r\n     <use style=\"fill:#1f77b4;stroke:#1f77b4;stroke-linejoin:miter;\" x=\"401.851716\" xlink:href=\"#md88b9aaf97\" y=\"217.191399\"/>\r\n    </g>\r\n   </g>\r\n   <g id=\"patch_3\">\r\n    <path d=\"M 83.36125 228.6 \r\nL 83.36125 7.2 \r\n\" style=\"fill:none;stroke:#000000;stroke-linecap:square;stroke-linejoin:miter;stroke-width:0.8;\"/>\r\n   </g>\r\n   <g id=\"patch_4\">\r\n    <path d=\"M 417.017929 228.6 \r\nL 417.017929 7.2 \r\n\" style=\"fill:none;stroke:#000000;stroke-linecap:square;stroke-linejoin:miter;stroke-width:0.8;\"/>\r\n   </g>\r\n   <g id=\"patch_5\">\r\n    <path d=\"M 83.36125 228.6 \r\nL 417.017929 228.6 \r\n\" style=\"fill:none;stroke:#000000;stroke-linecap:square;stroke-linejoin:miter;stroke-width:0.8;\"/>\r\n   </g>\r\n   <g id=\"patch_6\">\r\n    <path d=\"M 83.36125 7.2 \r\nL 417.017929 7.2 \r\n\" style=\"fill:none;stroke:#000000;stroke-linecap:square;stroke-linejoin:miter;stroke-width:0.8;\"/>\r\n   </g>\r\n   <g id=\"legend_1\">\r\n    <g id=\"patch_7\">\r\n     <path d=\"M 263.646054 140.625 \r\nL 403.017929 140.625 \r\nQ 407.017929 140.625 407.017929 136.625 \r\nL 407.017929 21.2 \r\nQ 407.017929 17.2 403.017929 17.2 \r\nL 263.646054 17.2 \r\nQ 259.646054 17.2 259.646054 21.2 \r\nL 259.646054 136.625 \r\nQ 259.646054 140.625 263.646054 140.625 \r\nz\r\n\" style=\"fill:#ffffff;opacity:0.8;stroke:#cccccc;stroke-linejoin:miter;\"/>\r\n    </g>\r\n    <g id=\"line2d_19\">\r\n     <path d=\"M 267.646054 33.396875 \r\nL 307.646054 33.396875 \r\n\" style=\"fill:none;stroke:#0000ff;stroke-dasharray:14.8,6.4;stroke-dashoffset:0;stroke-width:4;\"/>\r\n    </g>\r\n    <g id=\"line2d_20\"/>\r\n    <g id=\"text_17\">\r\n     <!-- GD q1 -->\r\n     <g transform=\"translate(323.646054 40.396875)scale(0.2 -0.2)\">\r\n      <defs>\r\n       <path d=\"M 59.515625 10.40625 \r\nL 59.515625 29.984375 \r\nL 43.40625 29.984375 \r\nL 43.40625 38.09375 \r\nL 69.28125 38.09375 \r\nL 69.28125 6.78125 \r\nQ 63.578125 2.734375 56.6875 0.65625 \r\nQ 49.8125 -1.421875 42 -1.421875 \r\nQ 24.90625 -1.421875 15.25 8.5625 \r\nQ 5.609375 18.5625 5.609375 36.375 \r\nQ 5.609375 54.25 15.25 64.234375 \r\nQ 24.90625 74.21875 42 74.21875 \r\nQ 49.125 74.21875 55.546875 72.453125 \r\nQ 61.96875 70.703125 67.390625 67.28125 \r\nL 67.390625 56.78125 \r\nQ 61.921875 61.421875 55.765625 63.765625 \r\nQ 49.609375 66.109375 42.828125 66.109375 \r\nQ 29.4375 66.109375 22.71875 58.640625 \r\nQ 16.015625 51.171875 16.015625 36.375 \r\nQ 16.015625 21.625 22.71875 14.15625 \r\nQ 29.4375 6.6875 42.828125 6.6875 \r\nQ 48.046875 6.6875 52.140625 7.59375 \r\nQ 56.25 8.5 59.515625 10.40625 \r\nz\r\n\" id=\"DejaVuSans-71\"/>\r\n       <path d=\"M 19.671875 64.796875 \r\nL 19.671875 8.109375 \r\nL 31.59375 8.109375 \r\nQ 46.6875 8.109375 53.6875 14.9375 \r\nQ 60.6875 21.78125 60.6875 36.53125 \r\nQ 60.6875 51.171875 53.6875 57.984375 \r\nQ 46.6875 64.796875 31.59375 64.796875 \r\nz\r\nM 9.8125 72.90625 \r\nL 30.078125 72.90625 \r\nQ 51.265625 72.90625 61.171875 64.09375 \r\nQ 71.09375 55.28125 71.09375 36.53125 \r\nQ 71.09375 17.671875 61.125 8.828125 \r\nQ 51.171875 0 30.078125 0 \r\nL 9.8125 0 \r\nz\r\n\" id=\"DejaVuSans-68\"/>\r\n       <path d=\"M 14.796875 27.296875 \r\nQ 14.796875 17.390625 18.875 11.75 \r\nQ 22.953125 6.109375 30.078125 6.109375 \r\nQ 37.203125 6.109375 41.296875 11.75 \r\nQ 45.40625 17.390625 45.40625 27.296875 \r\nQ 45.40625 37.203125 41.296875 42.84375 \r\nQ 37.203125 48.484375 30.078125 48.484375 \r\nQ 22.953125 48.484375 18.875 42.84375 \r\nQ 14.796875 37.203125 14.796875 27.296875 \r\nz\r\nM 45.40625 8.203125 \r\nQ 42.578125 3.328125 38.25 0.953125 \r\nQ 33.9375 -1.421875 27.875 -1.421875 \r\nQ 17.96875 -1.421875 11.734375 6.484375 \r\nQ 5.515625 14.40625 5.515625 27.296875 \r\nQ 5.515625 40.1875 11.734375 48.09375 \r\nQ 17.96875 56 27.875 56 \r\nQ 33.9375 56 38.25 53.625 \r\nQ 42.578125 51.265625 45.40625 46.390625 \r\nL 45.40625 54.6875 \r\nL 54.390625 54.6875 \r\nL 54.390625 -20.796875 \r\nL 45.40625 -20.796875 \r\nz\r\n\" id=\"DejaVuSans-113\"/>\r\n      </defs>\r\n      <use xlink:href=\"#DejaVuSans-71\"/>\r\n      <use x=\"77.490234\" xlink:href=\"#DejaVuSans-68\"/>\r\n      <use x=\"154.492188\" xlink:href=\"#DejaVuSans-32\"/>\r\n      <use x=\"186.279297\" xlink:href=\"#DejaVuSans-113\"/>\r\n      <use x=\"249.755859\" xlink:href=\"#DejaVuSans-49\"/>\r\n     </g>\r\n    </g>\r\n    <g id=\"line2d_21\">\r\n     <path d=\"M 267.646054 62.753125 \r\nL 307.646054 62.753125 \r\n\" style=\"fill:none;stroke:#ff0000;stroke-linecap:square;stroke-width:2;\"/>\r\n    </g>\r\n    <g id=\"line2d_22\"/>\r\n    <g id=\"text_18\">\r\n     <!-- GD q8 -->\r\n     <g transform=\"translate(323.646054 69.753125)scale(0.2 -0.2)\">\r\n      <defs>\r\n       <path d=\"M 31.78125 34.625 \r\nQ 24.75 34.625 20.71875 30.859375 \r\nQ 16.703125 27.09375 16.703125 20.515625 \r\nQ 16.703125 13.921875 20.71875 10.15625 \r\nQ 24.75 6.390625 31.78125 6.390625 \r\nQ 38.8125 6.390625 42.859375 10.171875 \r\nQ 46.921875 13.96875 46.921875 20.515625 \r\nQ 46.921875 27.09375 42.890625 30.859375 \r\nQ 38.875 34.625 31.78125 34.625 \r\nz\r\nM 21.921875 38.8125 \r\nQ 15.578125 40.375 12.03125 44.71875 \r\nQ 8.5 49.078125 8.5 55.328125 \r\nQ 8.5 64.0625 14.71875 69.140625 \r\nQ 20.953125 74.21875 31.78125 74.21875 \r\nQ 42.671875 74.21875 48.875 69.140625 \r\nQ 55.078125 64.0625 55.078125 55.328125 \r\nQ 55.078125 49.078125 51.53125 44.71875 \r\nQ 48 40.375 41.703125 38.8125 \r\nQ 48.828125 37.15625 52.796875 32.3125 \r\nQ 56.78125 27.484375 56.78125 20.515625 \r\nQ 56.78125 9.90625 50.3125 4.234375 \r\nQ 43.84375 -1.421875 31.78125 -1.421875 \r\nQ 19.734375 -1.421875 13.25 4.234375 \r\nQ 6.78125 9.90625 6.78125 20.515625 \r\nQ 6.78125 27.484375 10.78125 32.3125 \r\nQ 14.796875 37.15625 21.921875 38.8125 \r\nz\r\nM 18.3125 54.390625 \r\nQ 18.3125 48.734375 21.84375 45.5625 \r\nQ 25.390625 42.390625 31.78125 42.390625 \r\nQ 38.140625 42.390625 41.71875 45.5625 \r\nQ 45.3125 48.734375 45.3125 54.390625 \r\nQ 45.3125 60.0625 41.71875 63.234375 \r\nQ 38.140625 66.40625 31.78125 66.40625 \r\nQ 25.390625 66.40625 21.84375 63.234375 \r\nQ 18.3125 60.0625 18.3125 54.390625 \r\nz\r\n\" id=\"DejaVuSans-56\"/>\r\n      </defs>\r\n      <use xlink:href=\"#DejaVuSans-71\"/>\r\n      <use x=\"77.490234\" xlink:href=\"#DejaVuSans-68\"/>\r\n      <use x=\"154.492188\" xlink:href=\"#DejaVuSans-32\"/>\r\n      <use x=\"186.279297\" xlink:href=\"#DejaVuSans-113\"/>\r\n      <use x=\"249.755859\" xlink:href=\"#DejaVuSans-56\"/>\r\n     </g>\r\n    </g>\r\n    <g id=\"line2d_23\">\r\n     <path d=\"M 267.646054 92.109375 \r\nL 307.646054 92.109375 \r\n\" style=\"fill:none;stroke:#008000;stroke-dasharray:14.8,6.4;stroke-dashoffset:0;stroke-width:4;\"/>\r\n    </g>\r\n    <g id=\"line2d_24\"/>\r\n    <g id=\"text_19\">\r\n     <!-- SGD q1 -->\r\n     <g transform=\"translate(323.646054 99.109375)scale(0.2 -0.2)\">\r\n      <defs>\r\n       <path d=\"M 53.515625 70.515625 \r\nL 53.515625 60.890625 \r\nQ 47.90625 63.578125 42.921875 64.890625 \r\nQ 37.9375 66.21875 33.296875 66.21875 \r\nQ 25.25 66.21875 20.875 63.09375 \r\nQ 16.5 59.96875 16.5 54.203125 \r\nQ 16.5 49.359375 19.40625 46.890625 \r\nQ 22.3125 44.4375 30.421875 42.921875 \r\nL 36.375 41.703125 \r\nQ 47.40625 39.59375 52.65625 34.296875 \r\nQ 57.90625 29 57.90625 20.125 \r\nQ 57.90625 9.515625 50.796875 4.046875 \r\nQ 43.703125 -1.421875 29.984375 -1.421875 \r\nQ 24.8125 -1.421875 18.96875 -0.25 \r\nQ 13.140625 0.921875 6.890625 3.21875 \r\nL 6.890625 13.375 \r\nQ 12.890625 10.015625 18.65625 8.296875 \r\nQ 24.421875 6.59375 29.984375 6.59375 \r\nQ 38.421875 6.59375 43.015625 9.90625 \r\nQ 47.609375 13.234375 47.609375 19.390625 \r\nQ 47.609375 24.75 44.3125 27.78125 \r\nQ 41.015625 30.8125 33.5 32.328125 \r\nL 27.484375 33.5 \r\nQ 16.453125 35.6875 11.515625 40.375 \r\nQ 6.59375 45.0625 6.59375 53.421875 \r\nQ 6.59375 63.09375 13.40625 68.65625 \r\nQ 20.21875 74.21875 32.171875 74.21875 \r\nQ 37.3125 74.21875 42.625 73.28125 \r\nQ 47.953125 72.359375 53.515625 70.515625 \r\nz\r\n\" id=\"DejaVuSans-83\"/>\r\n      </defs>\r\n      <use xlink:href=\"#DejaVuSans-83\"/>\r\n      <use x=\"63.476562\" xlink:href=\"#DejaVuSans-71\"/>\r\n      <use x=\"140.966797\" xlink:href=\"#DejaVuSans-68\"/>\r\n      <use x=\"217.96875\" xlink:href=\"#DejaVuSans-32\"/>\r\n      <use x=\"249.755859\" xlink:href=\"#DejaVuSans-113\"/>\r\n      <use x=\"313.232422\" xlink:href=\"#DejaVuSans-49\"/>\r\n     </g>\r\n    </g>\r\n    <g id=\"line2d_25\">\r\n     <path d=\"M 267.646054 121.465625 \r\nL 307.646054 121.465625 \r\n\" style=\"fill:none;stroke:#1f77b4;stroke-linecap:square;stroke-width:2;\"/>\r\n    </g>\r\n    <g id=\"line2d_26\">\r\n     <g>\r\n      <use style=\"fill:#1f77b4;stroke:#1f77b4;stroke-linejoin:miter;\" x=\"287.646054\" xlink:href=\"#md88b9aaf97\" y=\"121.465625\"/>\r\n     </g>\r\n    </g>\r\n    <g id=\"text_20\">\r\n     <!-- SGD q8 -->\r\n     <g transform=\"translate(323.646054 128.465625)scale(0.2 -0.2)\">\r\n      <use xlink:href=\"#DejaVuSans-83\"/>\r\n      <use x=\"63.476562\" xlink:href=\"#DejaVuSans-71\"/>\r\n      <use x=\"140.966797\" xlink:href=\"#DejaVuSans-68\"/>\r\n      <use x=\"217.96875\" xlink:href=\"#DejaVuSans-32\"/>\r\n      <use x=\"249.755859\" xlink:href=\"#DejaVuSans-113\"/>\r\n      <use x=\"313.232422\" xlink:href=\"#DejaVuSans-56\"/>\r\n     </g>\r\n    </g>\r\n   </g>\r\n  </g>\r\n </g>\r\n <defs>\r\n  <clipPath id=\"p403fc91357\">\r\n   <rect height=\"221.4\" width=\"333.656679\" x=\"83.36125\" y=\"7.2\"/>\r\n  </clipPath>\r\n </defs>\r\n</svg>\r\n",
      "image/png": "[encoded data removed]"
     },
     "metadata": {
      "needs_background": "light"
     }
    }
   ],
   "source": [
    "\n",
    "# copied this from hw2\n",
    "import matplotlib.pyplot as plt\n",
    "%matplotlib inline\n",
    "\n",
    "fig = plt.figure(figsize=(6, 4))\n",
    "\n",
    "epochs_gd1 = range(len(objs_gd1))\n",
    "epochs_gd8 = range(len(objs_gd8))\n",
    "epochs_sgd1 = range(len(objs_sgd1))\n",
    "epochs_sgd8 = range(len(objs_sgd8))\n",
    "\n",
    "line0, = plt.plot(epochs_gd1, objs_gd1, '--b', LineWidth = 4)\n",
    "line1, = plt.plot(epochs_gd8, objs_gd8, '-r', LineWidth = 2)\n",
    "line2, = plt.plot(epochs_sgd1, objs_sgd1, '--g', LineWidth = 4)\n",
    "line3, = plt.plot(epochs_sgd8, objs_sgd8, '-p', LineWidth = 2)\n",
    "\n",
    "plt.xlabel('Number of Communications', FontSize = 20)\n",
    "plt.ylabel('Objective Value', FontSize = 20)\n",
    "plt.xticks(FontSize=16)\n",
    "plt.yticks(FontSize=16)\n",
    "plt.legend([line0, line1, line2, line3], ['GD q1', 'GD q8', 'SGD q1', 'SGD q8'], fontsize = 20)\n",
    "plt.tight_layout()\n",
    "plt.show()\n",
    "fig.savefig('compare_gd_sgd.pdf', format='pdf', dpi=1200)"
   ]
  },
  {
   "cell_type": "code",
   "execution_count": null,
   "metadata": {},
   "outputs": [],
   "source": []
  }
 ],
 "metadata": {
  "kernelspec": {
   "display_name": "Python 3",
   "language": "python",
   "name": "python3"
  },
  "language_info": {
   "codemirror_mode": {
    "name": "ipython",
    "version": 3
   },
   "file_extension": ".py",
   "mimetype": "text/x-python",
   "name": "python",
   "nbconvert_exporter": "python",
   "pygments_lexer": "ipython3",
   "version": "3.7.0"
  }
 },
 "nbformat": 4,
 "nbformat_minor": 2
}